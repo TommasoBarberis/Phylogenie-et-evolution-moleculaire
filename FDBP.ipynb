{
 "cells": [
  {
   "cell_type": "markdown",
   "id": "495b4fa8",
   "metadata": {},
   "source": [
    "- Origin time: $\\phi \\sim Unif(0, 1000)$\n",
    "- Fossilization rate: $\\psi \\sim Exp(10)$\n",
    "- Speciation rate: $\\lambda \\approx 1$\n",
    "- Sampling rate: $\\rho = 0$\n",
    "- Exctintion rate: $\\mu = 1$\n",
    "- Topology and divergence time: $\\tau$\n",
    "<br/>\n",
    "- Substitution matrix: $Q$ (MtRev model)\n",
    "<br/>\n",
    "- clockrate mean: $m \\sim Exp(1)$\n",
    "- clock rate relative variance: $v \\sim Exp(1)$\n",
    "- alpha _Gamma_'s parameter: $1 / v$\n",
    "- beta _Gamma_'s parameter: $\\alpha / m$\n",
    "- clock rate: $c \\sim Gamma(\\alpha, \\beta)$"
   ]
  },
  {
   "cell_type": "code",
   "execution_count": 1,
   "id": "8f56b709",
   "metadata": {},
   "outputs": [
    {
     "name": "stdout",
     "output_type": "stream",
     "text": [
      "   Missing Variable:\tVariable os does not exist\n",
      "\n",
      "   Successfully read one character matrix from file '../Projet/fishes/aln_prot.fst'\n"
     ]
    }
   ],
   "source": [
    "# read nucleotide data\n",
    "data <- readDiscreteCharacterData(\"../Projet/fishes/aln_prot.fst\")\n",
    "\n",
    "n_species <- data.ntaxa()\n",
    "# n_branches <- 2 * n_species - 2 # car on veut un arbre enraciné\n",
    "taxa <- data.taxa()\n",
    "\n",
    "# root age\n",
    "root_age ~ dnUniform(0,1000)"
   ]
  },
  {
   "cell_type": "code",
   "execution_count": 4,
   "id": "266f78c0",
   "metadata": {},
   "outputs": [],
   "source": [
    "# speciation rate\n",
    "lambda <- 1.000000000000001 # it can be egal to mu, else math error\n",
    "\n",
    "# extinction rate\n",
    "mu <- 1 \n",
    "\n",
    "# sampling fraction (in the present)\n",
    "rho <- 0.00046 # 23 sampled species / 50'000 vertebrates species estimated"
   ]
  },
  {
   "cell_type": "code",
   "execution_count": 5,
   "id": "e8e800b7",
   "metadata": {},
   "outputs": [],
   "source": [
    "diversification := lambda - mu\n",
    "turnover := lambda/mu"
   ]
  },
  {
   "cell_type": "code",
   "execution_count": null,
   "id": "47952ce2",
   "metadata": {},
   "outputs": [],
   "source": []
  }
 ],
 "metadata": {
  "kernelspec": {
   "display_name": "RevBayes",
   "language": "bash",
   "name": "revbayes_kernel"
  },
  "language_info": {
   "codemirror_mode": {
    "name": "r"
   },
   "file_extension": ".Rev",
   "help_links": [
    {
     "text": "RevBayes",
     "url": "https://revbayes.org"
    },
    {
     "text": "RevBayes Kernel",
     "url": "https://github.com/sdwfrost/revbayes_kernel"
    },
    {
     "text": "MetaKernel Magics",
     "url": "https://metakernel.readthedocs.io/en/latest/source/README.html"
    }
   ],
   "mimetype": "text/x-rsrc",
   "name": "RevBayes",
   "pygments_lexer": "R"
  }
 },
 "nbformat": 4,
 "nbformat_minor": 5
}
