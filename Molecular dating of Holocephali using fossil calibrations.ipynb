{
 "cells": [
  {
   "cell_type": "markdown",
   "id": "d6dfd415",
   "metadata": {},
   "source": [
    "# Molecular dating of Holocephali using fossil calibrations\n",
    "\n",
    "\n",
    "## 1. Introduction\n",
    "\n",
    "### 1.1 L'article\n",
    "Grâce à la leur position à la base des poissons __osseux__, les poissons __cartilagineux__ sont considérés comme un excellent _outgroup_ dans les études comparatives des vertebrés.\n",
    "<br/>\n",
    "Récemment, le génome de _Callorhinchus milii_ (__chimère éléphant__) a été proposé comme génome modèle pour comprendre l'histoire évolutive des génomes vertebrés grâce sa position phylogénétique et à son génome de petite taille (910 Mb). Malgré un tel intérêt croissant, l’histoire évolutive des _holophaceans_ modernes ainsi que leur rélation avec _Elasmobranchii_ (sous-classe de _Chondrichthyes_, qui regroupe les requins, raies et chimères) et d'autres vertebrés à machoire n'a pas été bien documentée à cause de l'absence de matériaux fossiles bien conservés.\n",
    "<br/><br/>\n",
    "Dans cette étude, les auteurs ont assemblé le génome mitchondrial de 8 représentants de trois familles d'_holophaceans_ modernes, pour pouvoir étudier leurs rélations phylogénétiques et histoire évolutive. Pour faire cela, ils ont analysé par __maximum__ de __vraisemblance__ les séquences alignées sans ambiguïté de ces _holophaceans_ avec 17 autres vertebrés (9,409 positions nucléotidiques en excludant la troisième position du codon).\n",
    "<br/>\n",
    "L'arbre généré supporte l'hypothèse d'une seule origine des _holophaceans_ modernes et leur relation avec le groupe-soeur des _Elasmobranchii_. \n",
    "L’arbre mitogénomique a récupéré le plus grand nombre de _Callorhinchus_ basaux dans les _Chimaeriformes_, lequel est groupe-soeur avec les clades des deux familles restantes (_Rhinochimaeridae_ et _Chimaeridae_). \n",
    "<br/>\n",
    "L’arbre temporel dérivé d’une horloge moléculaire détendue bayésienne suggère que les _holophaceans_ sont originaires du __Silurien__ vers 420 Ma, ayant survécu dans la fin du __Permien__ à l'extinction de masse et qui ont subi une diversification familiale de la fin du __Jurassique__ au début du __Crétacé__. Ce scénario évolutif proposé est bien en accord avec celui basé sur les observations paléontologiques.\n",
    "<br/><br/>\n",
    "Source: [Evolutionary Origin and Phylogeny of the Modern Holocephalans (Chondrichthyes: Chimaeriformes): A Mitogenomic Perspective](https://academic.oup.com/mbe/article/27/11/2576/1121974?login=true)\n",
    "\n",
    "### 1.2 Le projet\n",
    "La datation d’une phylogénie repose sur l’interprétation de la divergence entre les séquences à la lumière des calibrations fossiles, et à la lumière des _a priori_ sur ces calibrations et sur la forme de la phylogénie. <br/>\n",
    "Il s’agit d’un problème inférentiel difficile où les _a priori_ et les __mouvements__ qui sont utilisés peuvent avoir un impact important sur le résultat et sur la convergence du __MCMC__. Dans ce projet, on va ré-analyser un ensemble de données construit par _Inoue et al._ (cfr. __1.1 L'article__) pour évaluer la robustesse de leurs résultats par rapport aux _a priori_ ou aux __mouvements__ qui sont utilisés.\n",
    "\n",
    "### 1.3 Les données\n",
    "Comme anticipé dans la section __1.1 L'article__, les données sont constituées par des génomes mitochrondiaux entiers assemblés de 8 _holophaceans_ (répresentant les trois familles):\n",
    "- _Callorhinchus milii_ (**_Callorhinchidae_**)\n",
    "- _Callorhinchus capensis_ (**_Callorhinchidae_**)\n",
    "- _Callorhinchus callorynchus_ (**_Callorhinchidae_**)\n",
    "- _Hariotta raleighana_ (**_Rhinochimaeridae_**)\n",
    "- _Rhinochimaera pacifica_ (**_Rhinochimaeridae_**)\n",
    "- _Hydrolagus lemures_ (**_Chimaeridae_**)\n",
    "- _Chimaera sp_ (**_Chimaeridae_**)\n",
    "- _Chimaera monstrosa_ (**_Chimaeridae_**)\n",
    "\n",
    "Et 15 autres vertebres: _Cyprinus carpio_, _Polymixia japonica_, _Tetraodon nigroviridis_, _Protopterus aethiopicus_, _Xenopus tropicalis_, _Struthio camelus_, _Ornithorhynchus anatinus_, _Homo sapiens_, _Plesiobatis daviesi_, _Okamejei kenojei_, _Amblyraja radiata_, _Squalus acanthias_, _Heterodontus francisci_, _Scyliorhinus canicula_, _Mustelus manazo_.\n",
    "<br/>\n",
    "Les séquences sont contenues dans le fichier `aln_prot.fst`. Il contient les séquences d'acides aminés de 12 gènes codant des protéines des génomes mitochondriaux (exclusion des gènes ARNt et ARNr)."
   ]
  },
  {
   "cell_type": "code",
   "execution_count": 12,
   "id": "ed56244c",
   "metadata": {},
   "outputs": [
    {
     "name": "stdout",
     "output_type": "stream",
     "text": [
      "   Successfully read one character matrix from file '../Projet/fishes/aln_prot.fst'\n"
     ]
    }
   ],
   "source": [
    "# read nucleotide data\n",
    "data <- readDiscreteCharacterData(\"../Projet/fishes/aln_prot.fst\")\n",
    "\n",
    "n_species <- data.ntaxa()\n",
    "n_branches <- 2 * n_species - 2 # car on veut un arbre enraciné\n",
    "taxa <- data.taxa()\n",
    "\n",
    "# root age\n",
    "root_age ~ dnUniform(0,1000)"
   ]
  },
  {
   "cell_type": "code",
   "execution_count": 13,
   "id": "fa1950bf",
   "metadata": {},
   "outputs": [],
   "source": [
    "# tree is produced by a birth death process\n",
    "\n",
    "# speciation rate\n",
    "lambda <- 1.000000000000001 # it can be egal to mu, math error\n",
    "\n",
    "# extinction rate\n",
    "mu <- 1 \n",
    "\n",
    "\n",
    "# sampling fraction (in the present)\n",
    "rho <- 0.00046 # 23 sampled species / 50'000 vertebrates species estimated\n",
    "\n",
    "# time tree produced by a birth-death process (BDP)\n",
    "timetree ~ dnBDP(lambda, mu, rho, root_age, samplingStrategy=\"uniform\", condition=\"nTaxa\", taxa=taxa)"
   ]
  },
  {
   "cell_type": "code",
   "execution_count": 3,
   "id": "9ded09be",
   "metadata": {},
   "outputs": [
    {
     "name": "stdout",
     "output_type": "stream",
     "text": [
      "   Attempting to read the contents of file \"vertebrate_Poisson_NJ.tree\"\r\n",
      "   Successfully read file\r\n"
     ]
    }
   ],
   "source": [
    "# read tree from file\n",
    "tree <- readTrees(\"../Projet/fishes/vertebrate_Poisson_NJ.tree\", treetype=\"clock\")[1]"
   ]
  },
  {
   "cell_type": "code",
   "execution_count": 14,
   "id": "b7e84de0",
   "metadata": {},
   "outputs": [
    {
     "name": "stdout",
     "output_type": "stream",
     "text": [
      "(((((((Squalus_acanthias[&index=23]:41.200000,(Chimaera_sp[&index=22]:37.000000,Amblyraja_radiata[&index=21]:37.000000)[&index=24]:4.200000)[&index=25]:3.200000,(Polymixia_japonica[&index=20]:34.400000,Homo_sapiens[&index=19]:34.400000)[&index=26]:10.000000)[&index=27]:10.600000,Struthio_camelus[&index=18]:55.000000)[&index=28]:0.600000,(Plesiobatis_daviesi[&index=17]:42.000000,Xenopus_tropicalis[&index=16]:42.000000)[&index=29]:13.600000)[&index=30]:3.200000,((Tetraodon_nigroviridis[&index=15]:34.400000,Mustelus_manazo[&index=14]:34.400000)[&index=31]:19.400000,Chimaera_monstrosa[&index=13]:53.800000)[&index=32]:5.000000)[&index=33]:2.600000,((Callorhinchus_capensis[&index=12]:42.000000,Hydrolagus_lemures[&index=11]:42.000000)[&index=34]:13.600000,(Callorhinchus_callorynchus[&index=10]:41.600000,Ornithorhynchus_anatinus[&index=9]:41.600000)[&index=35]:14.000000)[&index=36]:5.800000)[&index=37]:27.444199,(((Okamejei_kenojei[&index=8]:42.000000,Rhinochimaera_pacifica[&index=7]:42.000000)[&index=38]:7.800000,Hariotta_raleighana[&index=6]:49.800000)[&index=39]:31.800000,((Scyliorhinus_canicula[&index=5]:65.000000,((Cyprinus_carpio[&index=4]:34.400000,Protopterus_aethiopicus[&index=3]:34.400000)[&index=40]:6.800000,Callorhinchus_milii[&index=2]:41.200000)[&index=41]:23.800000)[&index=42]:5.600000,Heterodontus_francisci[&index=1]:70.600000)[&index=43]:11.000000)[&index=44]:7.244199)[&index=45]:0.000000;\r\n"
     ]
    }
   ],
   "source": [
    "print(timetree)"
   ]
  },
  {
   "cell_type": "code",
   "execution_count": 15,
   "id": "924dc6e0",
   "metadata": {},
   "outputs": [],
   "source": [
    "# ajust terminal branch lengths so as to make the tree ultrametric\n",
    "tree.makeUltrametric()"
   ]
  },
  {
   "cell_type": "code",
   "execution_count": 16,
   "id": "082aabc3",
   "metadata": {},
   "outputs": [
    {
     "name": "stdout",
     "output_type": "stream",
     "text": [
      "((((Squalus_acanthias[&index=23]:358.449985,((Mustelus_manazo[&index=22]:334.370325,Scyliorhinus_canicula[&index=21]:334.370325)[&index=24]:16.716051,Heterodontus_francisci[&index=20]:351.086376)[&index=25]:7.363609)[&index=26]:28.123071,((Amblyraja_radiata[&index=19]:309.863313,Okamejei_kenojei[&index=18]:309.863313)[&index=27]:60.519665,Plesiobatis_daviesi[&index=17]:370.382977)[&index=28]:16.190079)[&index=29]:38.297343,((((Chimaera_monstrosa[&index=16]:248.817676,Chimaera_sp[&index=15]:248.817676)[&index=30]:20.397855,Hydrolagus_lemures[&index=14]:269.215531)[&index=31]:18.951432,(Rhinochimaera_pacifica[&index=13]:244.560589,Hariotta_raleighana[&index=12]:244.560589)[&index=32]:43.606374)[&index=33]:14.891585,(Callorhinchus_callorynchus[&index=11]:226.250186,(Callorhinchus_capensis[&index=10]:224.968129,Callorhinchus_milii[&index=9]:224.968129)[&index=34]:1.282057)[&index=35]:76.808363)[&index=36]:121.811851)[&index=37]:18.129601,(((Tetraodon_nigroviridis[&index=8]:378.321869,Polymixia_japonica[&index=7]:378.321869)[&index=38]:18.080291,Cyprinus_carpio[&index=6]:396.402159)[&index=39]:45.644516,((Xenopus_tropicalis[&index=5]:411.721097,(Struthio_camelus[&index=4]:380.162771,(Homo_sapiens[&index=3]:284.435849,Ornithorhynchus_anatinus[&index=2]:284.435849)[&index=40]:95.726922)[&index=41]:31.558326)[&index=42]:15.861346,Protopterus_aethiopicus[&index=1]:427.582443)[&index=43]:14.464233)[&index=44]:0.953324)[&index=45]:0.000000;\r\n"
     ]
    }
   ],
   "source": [
    "print(tree)"
   ]
  },
  {
   "cell_type": "code",
   "execution_count": 17,
   "id": "94e03cbb",
   "metadata": {},
   "outputs": [],
   "source": [
    "tree.rescale( 1000 / tree.rootAge() )\n",
    "\n",
    "# set the value of the tree topology\n",
    "# timetree.setValue(tree)"
   ]
  },
  {
   "cell_type": "code",
   "execution_count": 18,
   "id": "50f11556",
   "metadata": {},
   "outputs": [
    {
     "name": "stdout",
     "output_type": "stream",
     "text": [
      "((((Squalus_acanthias[&index=23]:809.142179,((Mustelus_manazo[&index=22]:754.786287,Scyliorhinus_canicula[&index=21]:754.786287)[&index=24]:37.733749,Heterodontus_francisci[&index=20]:792.520036)[&index=25]:16.622143)[&index=26]:63.483229,((Amblyraja_radiata[&index=19]:699.465717,Okamejei_kenojei[&index=18]:699.465717)[&index=27]:136.613238,Plesiobatis_daviesi[&index=17]:836.078955)[&index=28]:36.546453)[&index=29]:86.449985,((((Chimaera_monstrosa[&index=16]:561.665183,Chimaera_sp[&index=15]:561.665183)[&index=30]:46.044820,Hydrolagus_lemures[&index=14]:607.710003)[&index=31]:42.779757,(Rhinochimaera_pacifica[&index=13]:552.055506,Hariotta_raleighana[&index=12]:552.055506)[&index=32]:98.434253)[&index=33]:33.615316,(Callorhinchus_callorynchus[&index=11]:510.722766,(Callorhinchus_capensis[&index=10]:507.828733,Callorhinchus_milii[&index=9]:507.828733)[&index=34]:2.894034)[&index=35]:173.382309)[&index=36]:274.970318)[&index=37]:40.924607,(((Tetraodon_nigroviridis[&index=8]:853.999703,Polymixia_japonica[&index=7]:853.999703)[&index=38]:40.813298,Cyprinus_carpio[&index=6]:894.813001)[&index=39]:103.035025,((Xenopus_tropicalis[&index=5]:929.392995,(Struthio_camelus[&index=4]:858.155239,(Homo_sapiens[&index=3]:642.067379,Ornithorhynchus_anatinus[&index=2]:642.067379)[&index=40]:216.087860)[&index=41]:71.237756)[&index=42]:35.804393,Protopterus_aethiopicus[&index=1]:965.197388)[&index=43]:32.650638)[&index=44]:2.151974)[&index=45]:0.000000;\n",
      "  \n",
      "   (((((((Squalus_acanthias[&index=23]:41.200000,(Chimaera_sp[&index=22]:37.000000,Amblyraja_radiata[&index=21]:37.000000)[&index=24]:4.200000)[&index=25]:3.200000,(Polymixia_japonica[&index=20]:34.400000,Homo_sapiens[&index=19]:34.400000)[&index=26]:10.000000)[&index=27]:10.600000,Struthio_camelus[&index=18]:55.000000)[&index=28]:0.600000,(Plesiobatis_daviesi[&index=17]:42.000000,Xenopus_tropicalis[&index=16]:42.000000)[&index=29]:13.600000)[&index=30]:3.200000,((Tetraodon_nigroviridis[&index=15]:34.400000,Mustelus_manazo[&index=14]:34.400000)[&index=31]:19.400000,Chimaera_monstrosa[&index=13]:53.800000)[&index=32]:5.000000)[&index=33]:2.600000,((Callorhinchus_capensis[&index=12]:42.000000,Hydrolagus_lemures[&index=11]:42.000000)[&index=34]:13.600000,(Callorhinchus_callorynchus[&index=10]:41.600000,Ornithorhynchus_anatinus[&index=9]:41.600000)[&index=35]:14.000000)[&index=36]:5.800000)[&index=37]:27.444199,(((Okamejei_kenojei[&index=8]:42.000000,Rhinochimaera_pacifica[&index=7]:42.000000)[&index=38]:7.800000,Hariotta_raleighana[&index=6]:49.800000)[&index=39]:31.800000,((Scyliorhinus_canicula[&index=5]:65.000000,((Cyprinus_carpio[&index=4]:34.400000,Protopterus_aethiopicus[&index=3]:34.400000)[&index=40]:6.800000,Callorhinchus_milii[&index=2]:41.200000)[&index=41]:23.800000)[&index=42]:5.600000,Heterodontus_francisci[&index=1]:70.600000)[&index=43]:11.000000)[&index=44]:7.244199)[&index=45]:0.000000;\n"
     ]
    }
   ],
   "source": [
    "print(tree)\n",
    "timetree"
   ]
  },
  {
   "cell_type": "code",
   "execution_count": 19,
   "id": "91b981d6",
   "metadata": {},
   "outputs": [
    {
     "name": "stdout",
     "output_type": "stream",
     "text": [
      "   58.8\n",
      "   326.5\n"
     ]
    }
   ],
   "source": [
    "clade_1 <- clade(\"Plesiobatis_daviesi\",\"Mustelus_manazo\")\n",
    "speciation_clade_1 := tmrca(timetree, clade_1)\n",
    "min_clade_1 <- 190.0\n",
    "max_clade_1 <- 463.0\n",
    "width_age_1 <- (max_clade_1 - min_clade_1) / 2.0\n",
    "mean_age_1 <- min_clade_1 + width_age_1\n",
    "# obs_age_1 ~ dnNormal(speciation_clade_1, mean_age_1) #dnUniform(speciation_clade_1 - width_age_1, speciation_clade_1 + width_age_1)\n",
    "\n",
    "obs_age_1 ~ dnExponential(0.2, offset = - speciation_clade_1)\n",
    "\n",
    "# ?moves sur obs_age\n",
    "obs_age_1.clamp(-min_clade_1)\n",
    "speciation_clade_1\n",
    "mean_age_1"
   ]
  },
  {
   "cell_type": "code",
   "execution_count": 20,
   "id": "99415179",
   "metadata": {},
   "outputs": [
    {
     "name": "stdout",
     "output_type": "stream",
     "text": [
      "   58.8\r\n"
     ]
    }
   ],
   "source": [
    "speciation_clade_1"
   ]
  },
  {
   "cell_type": "code",
   "execution_count": 21,
   "id": "c8f6db08",
   "metadata": {},
   "outputs": [
    {
     "name": "stdout",
     "output_type": "stream",
     "text": [
      "   Could not compute lnProb for node obs_age_1.\n",
      "   -190\n",
      "   \n",
      "   \n",
      "   Drawing new initial states ... \n",
      "   \n",
      "   Running MCMC simulation\n",
      "   This simulation runs 1 independent replicate.\n",
      "   The simulator uses 51 different moves in a random move schedule with 91 moves per iteration\n",
      "   \n",
      "\n",
      "Iter        |      Posterior   |     Likelihood   |          Prior   |   mean_clock..   |      obs_age_1   |   relvar_clo..   |       root_age   |    elapsed   |        ETA   |\n",
      "--------------------------------------------------------------------------------------------------------------------------------------------------------------------------------\n",
      "0           |        -187175   |        -187114   |       -60.7878   |     0.04089485   |           -190   |      0.4013955   |       417.3057   |   00:00:00   |   --:--:--   |\n",
      "100         |       -44394.3   |       -44352.9   |       -41.3555   |      0.0242642   |           -190   |      0.6497356   |       207.9786   |   00:01:08   |   --:--:--   |\n",
      "200         |       -44389.2   |         -44350   |       -39.1351   |     0.02296088   |           -190   |       1.005261   |        191.147   |   00:02:15   |   00:54:00   |\n",
      "300         |       -44382.6   |       -44343.3   |       -39.3312   |     0.02214448   |           -190   |         1.4008   |       194.1087   |   00:03:13   |   00:50:23   |\n",
      "400         |       -44247.7   |       -44210.5   |       -37.1793   |     0.02051438   |           -190   |       1.440134   |       194.6218   |   00:04:05   |   00:46:57   |\n",
      "500         |       -44261.7   |       -44224.4   |       -37.3083   |     0.02215814   |           -190   |       1.284962   |       200.4583   |   00:04:57   |   00:44:33   |\n",
      "600         |       -44252.3   |       -44214.7   |       -37.6382   |     0.02064527   |           -190   |       1.478506   |       196.4033   |   00:05:46   |   00:42:17   |\n",
      "700         |       -44247.9   |       -44212.4   |       -35.4513   |      0.0250151   |           -190   |       1.272654   |       190.2059   |   00:06:34   |   00:40:20   |\n",
      "800         |         -44255   |         -44215   |        -39.902   |     0.02882649   |           -190   |       1.420542   |       203.6459   |   00:07:26   |   00:39:01   |\n",
      "900         |       -44250.9   |       -44214.3   |        -36.643   |     0.02400593   |           -190   |       1.339013   |       190.9359   |   00:08:14   |   00:37:30   |\n",
      "1000        |       -44061.3   |       -44021.7   |       -39.6835   |     0.02686186   |           -190   |        1.80674   |       190.5191   |   00:09:06   |   00:36:24   |\n",
      "1100        |       -44072.1   |       -44034.4   |       -37.7278   |     0.02507293   |           -190   |       1.594544   |        194.117   |   00:09:57   |   00:35:16   |\n",
      "1200        |       -44072.3   |       -44035.3   |       -36.9772   |     0.02345206   |           -190   |        1.54637   |       194.7008   |   00:10:54   |   00:34:31   |\n",
      "1300        |       -44065.7   |       -44029.8   |       -35.9317   |     0.02942968   |           -190   |       1.552702   |        194.456   |   00:11:48   |   00:33:35   |\n",
      "1400        |       -44066.4   |       -44030.9   |       -35.5376   |     0.02952487   |           -190   |       1.441664   |       191.9522   |   00:12:40   |   00:32:34   |\n",
      "1500        |       -44071.4   |         -44031   |       -40.4195   |     0.03763527   |           -190   |       1.158995   |       197.7955   |   00:13:37   |   00:31:46   |\n",
      "1600        |       -44004.7   |       -43965.3   |        -39.418   |     0.03066904   |           -190   |       1.418256   |       191.6795   |   00:14:37   |   00:31:03   |\n",
      "1700        |       -44012.9   |       -43969.8   |        -43.056   |     0.02406824   |           -190   |       1.317811   |       191.6533   |   00:15:28   |   00:30:01   |\n",
      "1800        |       -44012.2   |       -43970.9   |       -41.3274   |     0.03073544   |           -190   |       1.111613   |       195.1373   |   00:16:17   |   00:28:56   |\n",
      "1900        |       -44006.7   |       -43969.2   |       -37.5598   |     0.02488966   |           -190   |       1.503887   |       192.0698   |   00:17:07   |   00:27:55   |\n",
      "\n",
      "\n",
      "Iter        |      Posterior   |     Likelihood   |          Prior   |   mean_clock..   |      obs_age_1   |   relvar_clo..   |       root_age   |    elapsed   |        ETA   |\n",
      "--------------------------------------------------------------------------------------------------------------------------------------------------------------------------------\n",
      "2000        |       -44016.3   |       -43974.4   |       -41.9068   |     0.02746981   |           -190   |        1.90973   |       195.6056   |   00:18:19   |   00:27:28   |\n",
      "2100        |       -44020.7   |       -43978.9   |       -41.7301   |     0.02396268   |           -190   |       1.056202   |        197.513   |   00:19:16   |   00:26:36   |\n",
      "2200        |       -44014.4   |       -43970.1   |       -44.3093   |      0.0333128   |           -190   |       1.035485   |        190.558   |   00:20:12   |   00:25:42   |\n",
      "2300        |         -44009   |       -43969.3   |       -39.7004   |     0.02991283   |           -190   |       1.769528   |       195.2549   |   00:21:02   |   00:24:41   |\n",
      "2400        |       -44003.9   |       -43968.7   |       -35.2354   |     0.02577496   |           -190   |       1.245137   |        193.939   |   00:21:53   |   00:23:42   |\n",
      "2500        |       -44004.2   |       -43970.3   |       -33.9444   |     0.02214446   |           -190   |       1.371943   |       190.3005   |   00:22:46   |   00:22:46   |\n",
      "2600        |         -44010   |       -43970.7   |       -39.2987   |     0.03114518   |           -190   |       1.419445   |       190.7065   |   00:23:51   |   00:22:00   |\n",
      "2700        |         -44009   |       -43968.6   |       -40.3941   |     0.03452035   |           -190   |       1.065489   |       191.4742   |   00:24:47   |   00:21:06   |\n",
      "2800        |       -44004.3   |       -43964.2   |        -40.065   |     0.02778748   |           -190   |      0.7804855   |       191.1273   |   00:25:40   |   00:20:09   |\n",
      "2900        |       -44010.6   |       -43971.7   |       -38.9084   |     0.02391378   |           -190   |      0.8905718   |       193.6071   |   00:26:32   |   00:19:12   |\n",
      "3000        |       -44006.5   |       -43972.2   |       -34.3325   |     0.02425128   |           -190   |       1.090294   |       190.4473   |   00:27:22   |   00:18:14   |\n",
      "3100        |       -43995.7   |       -43965.4   |       -30.2497   |     0.02071164   |           -190   |       1.285542   |       190.1774   |   00:28:13   |   00:17:17   |\n",
      "3200        |       -44003.6   |       -43970.7   |       -32.8407   |     0.02259786   |           -190   |       1.529693   |       191.0059   |   00:29:06   |   00:16:22   |\n",
      "3300        |         -44002   |         -43971   |       -31.0297   |     0.02690112   |           -190   |       1.531652   |       196.0887   |   00:29:56   |   00:15:25   |\n",
      "3400        |       -43996.9   |         -43968   |       -28.9245   |     0.02604411   |           -190   |       1.366162   |       193.6644   |   00:30:46   |   00:14:28   |\n",
      "3500        |       -43998.4   |       -43969.8   |       -28.6151   |     0.01670533   |           -190   |        1.21157   |       197.6368   |   00:31:36   |   00:13:32   |\n",
      "3600        |         -43994   |       -43969.4   |       -24.6006   |     0.01908977   |           -190   |       1.472629   |       190.5716   |   00:32:30   |   00:12:38   |\n",
      "3700        |       -43993.1   |         -43966   |       -27.0771   |     0.02264553   |           -190   |        1.14858   |        195.091   |   00:33:29   |   00:11:45   |\n",
      "3800        |         -44001   |         -43970   |       -31.0154   |     0.02216893   |           -190   |       1.545914   |       192.2105   |   00:34:20   |   00:10:50   |\n",
      "3900        |       -44004.2   |       -43977.1   |       -27.1767   |     0.02106536   |           -190   |       1.292372   |       191.1815   |   00:35:10   |   00:09:55   |\n",
      "\n",
      "\n"
     ]
    },
    {
     "name": "stdout",
     "output_type": "stream",
     "text": [
      "Iter        |      Posterior   |     Likelihood   |          Prior   |   mean_clock..   |      obs_age_1   |   relvar_clo..   |       root_age   |    elapsed   |        ETA   |\n",
      "--------------------------------------------------------------------------------------------------------------------------------------------------------------------------------\n",
      "4000        |       -43993.6   |         -43966   |       -27.6326   |     0.01910034   |           -190   |       1.489695   |       191.0905   |   00:36:02   |   00:09:00   |\n",
      "4100        |       -43550.5   |       -43512.4   |       -38.0593   |     0.02049838   |           -190   |       1.266352   |       198.1725   |   00:36:58   |   00:08:06   |\n",
      "4200        |       -43535.3   |       -43503.1   |       -32.1591   |     0.02195686   |           -190   |       1.831092   |       190.0694   |   00:37:46   |   00:07:11   |\n",
      "4300        |       -43540.7   |       -43505.6   |       -35.0393   |     0.02177625   |           -190   |       1.504609   |        193.116   |   00:38:33   |   00:06:16   |\n",
      "4400        |       -43535.9   |       -43506.2   |       -29.7127   |     0.02435167   |           -190   |       1.286904   |       195.1731   |   00:39:20   |   00:05:21   |\n",
      "4500        |       -43545.2   |       -43509.3   |       -35.8766   |     0.03059978   |           -190   |       1.247574   |       190.2989   |   00:40:08   |   00:04:27   |\n",
      "4600        |       -43539.3   |       -43506.5   |       -32.7219   |     0.02040011   |           -190   |       1.418952   |       195.7739   |   00:40:55   |   00:03:33   |\n",
      "4700        |       -43539.1   |       -43506.4   |       -32.7464   |     0.02078383   |           -190   |       1.759625   |        191.276   |   00:41:43   |   00:02:39   |\n",
      "4800        |       -43542.1   |         -43509   |       -33.1753   |      0.0185418   |           -190   |       2.528858   |       191.4237   |   00:42:31   |   00:01:46   |\n",
      "4900        |       -43540.2   |       -43507.7   |       -32.5011   |     0.02450827   |           -190   |       1.801293   |       190.7694   |   00:43:19   |   00:00:53   |\n",
      "5000        |         -43543   |       -43514.3   |       -28.6997   |     0.01901658   |           -190   |       2.089455   |       191.1743   |   00:44:06   |   00:00:00   |\n",
      "   Processing file \"/home/tommaso/M2/Semestre_3/Phylo/repo_git/../Projet/analyses/fish_clock_1.trees\"\n",
      "\n",
      "Progress:\n",
      "0---------------25---------------50---------------75--------------100\n",
      "********************************************************************\n",
      "\n",
      "   Compiling maximum clade credibility tree from 451 trees.\n",
      "   \n",
      "   Summarizing clades ...\n",
      "   \n",
      "\n",
      "Progress:\n",
      "0---------------25---------------50---------------75--------------100\n",
      "********************************************************************\n",
      "\n",
      "   Annotating tree ...\n"
     ]
    }
   ],
   "source": [
    "# we assume a relaxed molecular clock, of unknown rate\n",
    "mean_clockrate ~ dnExponential(1.0)\n",
    "relvar_clockrate ~ dnExponential(1.0)\n",
    "\n",
    "alpha := 1.0 / relvar_clockrate\n",
    "beta := alpha / mean_clockrate\n",
    "\n",
    "for (i in 1:n_branches) {\n",
    "    clockrate[i] ~ dnGamma(alpha, beta)\n",
    "}\n",
    "\n",
    "Q := fnMtRev()\n",
    "\n",
    "seq ~ dnPhyloCTMC( tree=timetree, Q=Q, branchRates=clockrate, type=\"AA\" )\n",
    "# le taux d'évolution dans toutes les branches est égale au clockrate\n",
    "seq.clamp( data )\n",
    "\n",
    "my_model = model(timetree)\n",
    "\n",
    "# moves\n",
    "moves = VectorMoves()\n",
    "\n",
    "# moves.append(mvScale(lambda, weight=1.0))\n",
    "# moves.append(mvScale(mu, weight=1.0))\n",
    "\n",
    "for (i in 1:n_branches) {\n",
    "    moves.append(mvScale(clockrate[i], weight=1.0, lambda=0.5))    \n",
    "}\n",
    "moves.append(mvScale(relvar_clockrate, weight=1.0, lambda=0.1))\n",
    "moves.append(mvScale(mean_clockrate, weight=1.0, lambda=0.1))\n",
    "\n",
    "# moves.append(mvSlide(gamma, weight=1.0, delta=0.1))\n",
    "# moves.append(mvScale(kappa, weight=1.0))\n",
    "# moves.append(mvScale(clockrate, weight=1.0, lambda=0.1))\n",
    "\n",
    "moves.append(mvNarrow(timetree, weight=10))\n",
    "moves.append(mvFNPR(timetree, weight=10))\n",
    "moves.append(mvScale(root_age, weight=1.0, lambda=0.1))\n",
    "moves.append(mvNodeTimeSlideUniform(timetree, weight=20)) # bouge un seul noeud\n",
    "moves.append(mvSubtreeScale(timetree, weight=4)) # bouge de façon proportionnel tous les noeuds d'un sous-arbre\n",
    "\n",
    "monitors[1] = mnModel(filename=\"../Projet/analyses/fish_clock_1.log\", printgen=10, separator = TAB)\n",
    "monitors[2] = mnFile(timetree ,filename=\"../Projet/analyses/fish_clock_1.trees\", printgen=10, separator = TAB)\n",
    "monitors[3] = mnScreen(printgen=100, mean_clockrate, relvar_clockrate, root_age, obs_age_1)\n",
    "\n",
    "# Make the analysis object\n",
    "analysis = mcmc(my_model, monitors, moves)\n",
    "# Run the MCMC\n",
    "analysis.run(5000)\n",
    "\n",
    "treetrace = readTreeTrace(\"../Projet/analyses/fish_clock_1.trees\", treetype=\"clock\", burnin=0.1)\n",
    "map_tree = mccTree(treetrace, \"../Projet/analyses/fish_clock_1.tree\")"
   ]
  },
  {
   "cell_type": "code",
   "execution_count": null,
   "id": "652b7be1",
   "metadata": {},
   "outputs": [],
   "source": []
  }
 ],
 "metadata": {
  "kernelspec": {
   "display_name": "RevBayes",
   "language": "bash",
   "name": "revbayes_kernel"
  },
  "language_info": {
   "codemirror_mode": {
    "name": "r"
   },
   "file_extension": ".Rev",
   "help_links": [
    {
     "text": "RevBayes",
     "url": "https://revbayes.org"
    },
    {
     "text": "RevBayes Kernel",
     "url": "https://github.com/sdwfrost/revbayes_kernel"
    },
    {
     "text": "MetaKernel Magics",
     "url": "https://metakernel.readthedocs.io/en/latest/source/README.html"
    }
   ],
   "mimetype": "text/x-rsrc",
   "name": "RevBayes",
   "pygments_lexer": "R"
  }
 },
 "nbformat": 4,
 "nbformat_minor": 5
}
