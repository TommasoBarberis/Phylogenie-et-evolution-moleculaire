{
 "cells": [
  {
   "cell_type": "markdown",
   "id": "d6dfd415",
   "metadata": {},
   "source": [
    "# Molecular dating of Holocephali using fossil calibrations\n",
    "\n",
    "\n",
    "## 1. Introduction\n",
    "\n",
    "### 1.1 L'article\n",
    "Grâce à la leur position à la base des poissons __osseux__, les poissons __cartilagineux__ sont considérés comme un excellent _outgroup_ dans les études comparatives des vertebrés.\n",
    "<br/>\n",
    "Récemment, le génome de _Callorhinchus milii_ (__chimère éléphant__) a été proposé comme génome modèle pour comprendre l'histoire évolutive des génomes vertebrés grâce sa position phylogénétique et à son génome de petite taille (910 Mb). Malgré un tel intérêt croissant, l’histoire évolutive des _holophaceans_ modernes ainsi que leur rélation avec _Elasmobranchii_ (sous-classe de _Chondrichthyes_, qui regroupe les requins, raies et chimères) et d'autres vertebrés à machoire n'a pas été bien documentée à cause de l'absence de matériaux fossiles bien conservés.\n",
    "<br/><br/>\n",
    "Dans cette étude, les auteurs ont assemblé le génome mitchondrial de 8 représentants de trois familles d'_holophaceans_ modernes, pour pouvoir étudier leurs rélations phylogénétiques et histoire évolutive. Pour faire cela, ils ont analysé par __maximum__ de __vraisemblance__ les séquences alignées sans ambiguïté de ces _holophaceans_ avec 17 autres vertebrés (9,409 positions nucléotidiques en excludant la troisième position du codon).\n",
    "<br/>\n",
    "L'arbre généré supporte l'hypothèse d'une seule origine des _holophaceans_ modernes et leur relation avec le groupe-soeur des _Elasmobranchii_. \n",
    "L’arbre mitogénomique a récupéré le plus grand nombre de _Callorhinchus_ basaux dans les _Chimaeriformes_, lequel est groupe-soeur avec les clades des deux familles restantes (_Rhinochimaeridae_ et _Chimaeridae_). \n",
    "<br/>\n",
    "L’arbre temporel dérivé d’une horloge moléculaire détendue bayésienne suggère que les _holophaceans_ sont originaires du __Silurien__ vers 420 Ma, ayant survécu dans la fin du __Permien__ à l'extinction de masse et qui ont subi une diversification familiale de la fin du __Jurassique__ au début du __Crétacé__. Ce scénario évolutif proposé est bien en accord avec celui basé sur les observations paléontologiques.\n",
    "<br/><br/>\n",
    "Source: [Evolutionary Origin and Phylogeny of the Modern Holocephalans (Chondrichthyes: Chimaeriformes): A Mitogenomic Perspective](https://academic.oup.com/mbe/article/27/11/2576/1121974?login=true)\n",
    "\n",
    "### 1.2 Le projet\n",
    "La datation d’une phylogénie repose sur l’interprétation de la divergence entre les séquences à la lumière des calibrations fossiles, et à la lumière des _a priori_ sur ces calibrations et sur la forme de la phylogénie. <br/>\n",
    "Il s’agit d’un problème inférentiel difficile où les _a priori_ et les __mouvements__ qui sont utilisés peuvent avoir un impact important sur le résultat et sur la convergence du __MCMC__. Dans ce projet, on va ré-analyser un ensemble de données construit par _Inoue et al._ (cfr. __1.1 L'article__) pour évaluer la robustesse de leurs résultats par rapport aux _a priori_ ou aux __mouvements__ qui sont utilisés.\n",
    "\n",
    "### 1.3 Les données\n",
    "Comme anticipé dans la section __1.1 L'article__, les données sont constituées par des génomes mitochrondiaux entiers assemblés de 8 _holophaceans_ (répresentant les trois familles):\n",
    "- _Callorhinchus milii_ (**_Callorhinchidae_**)\n",
    "- _Callorhinchus capensis_ (**_Callorhinchidae_**)\n",
    "- _Callorhinchus callorynchus_ (**_Callorhinchidae_**)\n",
    "- _Hariotta raleighana_ (**_Rhinochimaeridae_**)\n",
    "- _Rhinochimaera pacifica_ (**_Rhinochimaeridae_**)\n",
    "- _Hydrolagus lemures_ (**_Chimaeridae_**)\n",
    "- _Chimaera sp_ (**_Chimaeridae_**)\n",
    "- _Chimaera monstrosa_ (**_Chimaeridae_**)\n",
    "\n",
    "Et 15 autres vertebres: _Cyprinus carpio_, _Polymixia japonica_, _Tetraodon nigroviridis_, _Protopterus aethiopicus_, _Xenopus tropicalis_, _Struthio camelus_, _Ornithorhynchus anatinus_, _Homo sapiens_, _Plesiobatis daviesi_, _Okamejei kenojei_, _Amblyraja radiata_, _Squalus acanthias_, _Heterodontus francisci_, _Scyliorhinus canicula_, _Mustelus manazo_.\n",
    "<br/>\n",
    "Les séquences sont contenues dans le fichier `aln_prot.fst`. Il contient les séquences d'acides aminés de 12 gènes codant des protéines des génomes mitochondriaux (exclusion des gènes ARNt et ARNr)."
   ]
  },
  {
   "cell_type": "code",
   "execution_count": 59,
   "id": "ed56244c",
   "metadata": {},
   "outputs": [
    {
     "name": "stdout",
     "output_type": "stream",
     "text": [
      "   Successfully read one character matrix from file '../Projet/fishes/aln_prot.fst'\n"
     ]
    }
   ],
   "source": [
    "# read nucleotide data\n",
    "data <- readDiscreteCharacterData(\"../Projet/fishes/aln_prot.fst\")\n",
    "\n",
    "n_species <- data.ntaxa()\n",
    "n_branches <- 2 * n_species - 2 # car on veut un arbre enraciné\n",
    "taxa <- data.taxa()\n",
    "\n",
    "# root age\n",
    "root_age ~ dnUniform(0,1000)"
   ]
  },
  {
   "cell_type": "code",
   "execution_count": 60,
   "id": "fa1950bf",
   "metadata": {},
   "outputs": [],
   "source": [
    "# tree is produced by a birth death process\n",
    "\n",
    "# speciation rate\n",
    "lambda <- 1.000000000000001 # it can be egal to mu, math error\n",
    "\n",
    "# extinction rate\n",
    "mu <- 1 \n",
    "\n",
    "\n",
    "# sampling fraction (in the present)\n",
    "rho <- 0.00046 # 23 sampled species / 50'000 vertebrates species estimated\n",
    "\n",
    "# time tree produced by a birth-death process (BDP)\n",
    "timetree ~ dnBDP(lambda, mu, rho, root_age, samplingStrategy=\"uniform\", condition=\"nTaxa\", taxa=taxa)"
   ]
  },
  {
   "cell_type": "code",
   "execution_count": 61,
   "id": "9ded09be",
   "metadata": {},
   "outputs": [
    {
     "name": "stdout",
     "output_type": "stream",
     "text": [
      "   Attempting to read the contents of file \"vertebrate_Poisson_NJ.tree\"\r\n",
      "   Successfully read file\r\n"
     ]
    }
   ],
   "source": [
    "# read tree from file\n",
    "tree <- readTrees(\"../Projet/fishes/vertebrate_Poisson_NJ.tree\", treetype=\"clock\")[1]"
   ]
  },
  {
   "cell_type": "code",
   "execution_count": 62,
   "id": "b7e84de0",
   "metadata": {},
   "outputs": [
    {
     "name": "stdout",
     "output_type": "stream",
     "text": [
      "((Callorhinchus_callorynchus[&index=23]:579.200000,(Protopterus_aethiopicus[&index=22]:505.000000,((Callorhinchus_capensis[&index=21]:88.400000,Rhinochimaera_pacifica[&index=20]:88.400000)[&index=24]:326.200000,Plesiobatis_daviesi[&index=19]:414.600000)[&index=25]:90.400000)[&index=26]:74.200000)[&index=27]:94.981882,((((Chimaera_sp[&index=18]:200.600000,Callorhinchus_milii[&index=17]:200.600000)[&index=28]:181.400000,Squalus_acanthias[&index=16]:382.000000)[&index=29]:218.800000,((Tetraodon_nigroviridis[&index=15]:173.800000,Cyprinus_carpio[&index=14]:173.800000)[&index=30]:378.200000,((Hariotta_raleighana[&index=13]:180.000000,Okamejei_kenojei[&index=12]:180.000000)[&index=31]:269.800000,(((Heterodontus_francisci[&index=11]:48.800000,Xenopus_tropicalis[&index=10]:48.800000)[&index=32]:224.000000,(Struthio_camelus[&index=9]:92.000000,(Chimaera_monstrosa[&index=8]:37.600000,Polymixia_japonica[&index=7]:37.600000)[&index=33]:54.400000)[&index=34]:180.800000)[&index=35]:2.800000,(Homo_sapiens[&index=6]:93.800000,Ornithorhynchus_anatinus[&index=5]:93.800000)[&index=36]:181.800000)[&index=37]:174.200000)[&index=38]:102.200000)[&index=39]:48.800000)[&index=40]:34.800000,((Scyliorhinus_canicula[&index=4]:249.400000,Hydrolagus_lemures[&index=3]:249.400000)[&index=41]:111.400000,(Amblyraja_radiata[&index=2]:191.400000,Mustelus_manazo[&index=1]:191.400000)[&index=42]:169.400000)[&index=43]:274.800000)[&index=44]:38.581882)[&index=45]:0.000000;\r\n"
     ]
    }
   ],
   "source": [
    "print(timetree)"
   ]
  },
  {
   "cell_type": "code",
   "execution_count": 63,
   "id": "924dc6e0",
   "metadata": {},
   "outputs": [],
   "source": [
    "# ajust terminal branch lengths so as to make the tree ultrametric\n",
    "tree.makeUltrametric()"
   ]
  },
  {
   "cell_type": "code",
   "execution_count": 64,
   "id": "082aabc3",
   "metadata": {},
   "outputs": [
    {
     "name": "stdout",
     "output_type": "stream",
     "text": [
      "((((Squalus_acanthias[&index=23]:0.218080,((Mustelus_manazo[&index=22]:0.203430,Scyliorhinus_canicula[&index=21]:0.203430)[&index=24]:0.010170,Heterodontus_francisci[&index=20]:0.213600)[&index=25]:0.004480)[&index=26]:0.017110,((Amblyraja_radiata[&index=19]:0.188520,Okamejei_kenojei[&index=18]:0.188520)[&index=27]:0.036820,Plesiobatis_daviesi[&index=17]:0.225340)[&index=28]:0.009850)[&index=29]:0.023300,((((Chimaera_monstrosa[&index=16]:0.151380,Chimaera_sp[&index=15]:0.151380)[&index=30]:0.012410,Hydrolagus_lemures[&index=14]:0.163790)[&index=31]:0.011530,(Rhinochimaera_pacifica[&index=13]:0.148790,Hariotta_raleighana[&index=12]:0.148790)[&index=32]:0.026530)[&index=33]:0.009060,(Callorhinchus_callorynchus[&index=11]:0.137650,(Callorhinchus_capensis[&index=10]:0.136870,Callorhinchus_milii[&index=9]:0.136870)[&index=34]:0.000780)[&index=35]:0.046730)[&index=36]:0.074110)[&index=37]:0.011030,(((Tetraodon_nigroviridis[&index=8]:0.230170,Polymixia_japonica[&index=7]:0.230170)[&index=38]:0.011000,Cyprinus_carpio[&index=6]:0.241170)[&index=39]:0.027770,((Xenopus_tropicalis[&index=5]:0.250490,(Struthio_camelus[&index=4]:0.231290,(Homo_sapiens[&index=3]:0.173050,Ornithorhynchus_anatinus[&index=2]:0.173050)[&index=40]:0.058240)[&index=41]:0.019200)[&index=42]:0.009650,Protopterus_aethiopicus[&index=1]:0.260140)[&index=43]:0.008800)[&index=44]:0.000580)[&index=45]:0.000000;\r\n"
     ]
    }
   ],
   "source": [
    "print(tree)"
   ]
  },
  {
   "cell_type": "code",
   "execution_count": 65,
   "id": "94e03cbb",
   "metadata": {},
   "outputs": [],
   "source": [
    "tree.rescale( 443 / tree.rootAge() )\n",
    "\n",
    "# set the value of the tree topology\n",
    "# timetree.setValue(tree)"
   ]
  },
  {
   "cell_type": "code",
   "execution_count": 66,
   "id": "50f11556",
   "metadata": {},
   "outputs": [
    {
     "name": "stdout",
     "output_type": "stream",
     "text": [
      "((((Squalus_acanthias[&index=23]:358.449985,((Mustelus_manazo[&index=22]:334.370325,Scyliorhinus_canicula[&index=21]:334.370325)[&index=24]:16.716051,Heterodontus_francisci[&index=20]:351.086376)[&index=25]:7.363609)[&index=26]:28.123071,((Amblyraja_radiata[&index=19]:309.863313,Okamejei_kenojei[&index=18]:309.863313)[&index=27]:60.519665,Plesiobatis_daviesi[&index=17]:370.382977)[&index=28]:16.190079)[&index=29]:38.297343,((((Chimaera_monstrosa[&index=16]:248.817676,Chimaera_sp[&index=15]:248.817676)[&index=30]:20.397855,Hydrolagus_lemures[&index=14]:269.215531)[&index=31]:18.951432,(Rhinochimaera_pacifica[&index=13]:244.560589,Hariotta_raleighana[&index=12]:244.560589)[&index=32]:43.606374)[&index=33]:14.891585,(Callorhinchus_callorynchus[&index=11]:226.250186,(Callorhinchus_capensis[&index=10]:224.968129,Callorhinchus_milii[&index=9]:224.968129)[&index=34]:1.282057)[&index=35]:76.808363)[&index=36]:121.811851)[&index=37]:18.129601,(((Tetraodon_nigroviridis[&index=8]:378.321869,Polymixia_japonica[&index=7]:378.321869)[&index=38]:18.080291,Cyprinus_carpio[&index=6]:396.402159)[&index=39]:45.644516,((Xenopus_tropicalis[&index=5]:411.721097,(Struthio_camelus[&index=4]:380.162771,(Homo_sapiens[&index=3]:284.435849,Ornithorhynchus_anatinus[&index=2]:284.435849)[&index=40]:95.726922)[&index=41]:31.558326)[&index=42]:15.861346,Protopterus_aethiopicus[&index=1]:427.582443)[&index=43]:14.464233)[&index=44]:0.953324)[&index=45]:0.000000;\n",
      "  \n",
      "   ((Callorhinchus_callorynchus[&index=23]:579.200000,(Protopterus_aethiopicus[&index=22]:505.000000,((Callorhinchus_capensis[&index=21]:88.400000,Rhinochimaera_pacifica[&index=20]:88.400000)[&index=24]:326.200000,Plesiobatis_daviesi[&index=19]:414.600000)[&index=25]:90.400000)[&index=26]:74.200000)[&index=27]:94.981882,((((Chimaera_sp[&index=18]:200.600000,Callorhinchus_milii[&index=17]:200.600000)[&index=28]:181.400000,Squalus_acanthias[&index=16]:382.000000)[&index=29]:218.800000,((Tetraodon_nigroviridis[&index=15]:173.800000,Cyprinus_carpio[&index=14]:173.800000)[&index=30]:378.200000,((Hariotta_raleighana[&index=13]:180.000000,Okamejei_kenojei[&index=12]:180.000000)[&index=31]:269.800000,(((Heterodontus_francisci[&index=11]:48.800000,Xenopus_tropicalis[&index=10]:48.800000)[&index=32]:224.000000,(Struthio_camelus[&index=9]:92.000000,(Chimaera_monstrosa[&index=8]:37.600000,Polymixia_japonica[&index=7]:37.600000)[&index=33]:54.400000)[&index=34]:180.800000)[&index=35]:2.800000,(Homo_sapiens[&index=6]:93.800000,Ornithorhynchus_anatinus[&index=5]:93.800000)[&index=36]:181.800000)[&index=37]:174.200000)[&index=38]:102.200000)[&index=39]:48.800000)[&index=40]:34.800000,((Scyliorhinus_canicula[&index=4]:249.400000,Hydrolagus_lemures[&index=3]:249.400000)[&index=41]:111.400000,(Amblyraja_radiata[&index=2]:191.400000,Mustelus_manazo[&index=1]:191.400000)[&index=42]:169.400000)[&index=43]:274.800000)[&index=44]:38.581882)[&index=45]:0.000000;\n"
     ]
    }
   ],
   "source": [
    "print(tree)\n",
    "timetree"
   ]
  },
  {
   "cell_type": "code",
   "execution_count": 67,
   "id": "91b981d6",
   "metadata": {},
   "outputs": [
    {
     "name": "stdout",
     "output_type": "stream",
     "text": [
      "   674.1819\n",
      "   326.5\n"
     ]
    }
   ],
   "source": [
    "clade_1 <- clade(\"Plesiobatis_daviesi\",\"Mustelus_manazo\")\n",
    "speciation_clade_1 := tmrca(timetree, clade_1)\n",
    "min_clade_1 <- 190.0\n",
    "max_clade_1 <- 463.0\n",
    "width_age_1 <- (max_clade_1 - min_clade_1) / 2.0\n",
    "mean_age_1 <- min_clade_1 + width_age_1\n",
    "# obs_age_1 ~ dnNormal(speciation_clade_1, mean_age_1) #dnUniform(speciation_clade_1 - width_age_1, speciation_clade_1 + width_age_1)\n",
    "\n",
    "obs_age_1 ~ dnExponential(0.2, offset = - speciation_clade_1)\n",
    "\n",
    "# ?moves sur obs_age\n",
    "obs_age_1.clamp(-mean_age_1)\n",
    "speciation_clade_1\n",
    "mean_age_1"
   ]
  },
  {
   "cell_type": "code",
   "execution_count": 68,
   "id": "c8f6db08",
   "metadata": {},
   "outputs": [
    {
     "name": "stdout",
     "output_type": "stream",
     "text": [
      "   \n",
      "   Running MCMC simulation\n",
      "   This simulation runs 1 independent replicate.\n",
      "   The simulator uses 51 different moves in a random move schedule with 91 moves per iteration\n",
      "   \n",
      "\n",
      "Iter        |      Posterior   |     Likelihood   |          Prior   |   mean_clock..   |      obs_age_1   |   relvar_clo..   |       root_age   |    elapsed   |        ETA   |\n",
      "--------------------------------------------------------------------------------------------------------------------------------------------------------------------------------\n",
      "0           |        -207858   |        -207619   |       -238.709   |        1.36741   |         -326.5   |      0.6875463   |       674.1819   |   00:00:00   |   --:--:--   |\n",
      "100         |       -62497.4   |       -62296.4   |       -201.025   |      0.7479225   |         -326.5   |       1.370857   |       484.9325   |   00:00:49   |   --:--:--   |\n",
      "200         |       -60131.4   |       -59945.3   |       -186.133   |      0.7434905   |         -326.5   |       2.001155   |       330.9431   |   00:01:37   |   00:06:28   |\n",
      "300         |       -52919.6   |       -52743.7   |       -175.869   |      0.9078693   |         -326.5   |       2.180826   |       331.5722   |   00:02:35   |   00:06:01   |\n",
      "400         |       -52914.8   |       -52744.5   |       -170.294   |      0.6275439   |         -326.5   |       1.666226   |       328.7465   |   00:03:36   |   00:05:24   |\n",
      "500         |       -52605.6   |       -52434.2   |       -171.353   |      0.6560167   |         -326.5   |       2.663913   |       327.0519   |   00:04:29   |   00:04:29   |\n",
      "600         |       -52589.7   |       -52426.1   |       -163.517   |      0.4526569   |         -326.5   |       2.589259   |        327.705   |   00:05:18   |   00:03:32   |"
     ]
    },
    {
     "name": "stderr",
     "output_type": "stream",
     "text": [
      "\u001b[0;31m[Errno 9] Bad file descriptor\n",
      "\u001b[0m"
     ]
    }
   ],
   "source": [
    "# we assume a relaxed molecular clock, of unknown rate\n",
    "mean_clockrate ~ dnExponential(1.0)\n",
    "relvar_clockrate ~ dnExponential(1.0)\n",
    "\n",
    "alpha := 1.0 / relvar_clockrate\n",
    "beta := alpha / mean_clockrate\n",
    "\n",
    "for (i in 1:n_branches) {\n",
    "    clockrate[i] ~ dnGamma(alpha, beta)\n",
    "}\n",
    "\n",
    "Q := fnMtRev()\n",
    "\n",
    "seq ~ dnPhyloCTMC( tree=timetree, Q=Q, branchRates=clockrate, type=\"AA\" )\n",
    "# le taux d'évolution dans toutes les branches est égale au clockrate\n",
    "seq.clamp( data )\n",
    "\n",
    "my_model = model(timetree)\n",
    "\n",
    "# moves\n",
    "moves = VectorMoves()\n",
    "\n",
    "# moves.append(mvScale(lambda, weight=1.0))\n",
    "# moves.append(mvScale(mu, weight=1.0))\n",
    "\n",
    "for (i in 1:n_branches) {\n",
    "    moves.append(mvScale(clockrate[i], weight=1.0, lambda=0.5))    \n",
    "}\n",
    "moves.append(mvScale(relvar_clockrate, weight=1.0, lambda=0.1))\n",
    "moves.append(mvScale(mean_clockrate, weight=1.0, lambda=0.1))\n",
    "\n",
    "# moves.append(mvSlide(gamma, weight=1.0, delta=0.1))\n",
    "# moves.append(mvScale(kappa, weight=1.0))\n",
    "# moves.append(mvScale(clockrate, weight=1.0, lambda=0.1))\n",
    "\n",
    "moves.append(mvNarrow(timetree, weight=10))\n",
    "moves.append(mvFNPR(timetree, weight=10))\n",
    "moves.append(mvScale(root_age, weight=1.0, lambda=0.1))\n",
    "moves.append(mvNodeTimeSlideUniform(timetree, weight=20)) # bouge un seul noeud\n",
    "moves.append(mvSubtreeScale(timetree, weight=4)) # bouge de façon proportionnel tous les noeuds d'un sous-arbre\n",
    "\n",
    "monitors[1] = mnModel(filename=\"../Projet/analyses/fish_clock_1.log\", printgen=10, separator = TAB)\n",
    "monitors[2] = mnFile(timetree ,filename=\"../Projet/analyses/fish_clock_1.trees\", printgen=10, separator = TAB)\n",
    "monitors[3] = mnScreen(printgen=100, mean_clockrate, relvar_clockrate, root_age, obs_age_1)\n",
    "\n",
    "# Make the analysis object\n",
    "analysis = mcmc(my_model, monitors, moves)\n",
    "# Run the MCMC\n",
    "analysis.run(1000)\n",
    "\n",
    "treetrace = readTreeTrace(\"../Projet/analyses/fish_clock_1.trees\", treetype=\"clock\", burnin=0.1)\n",
    "map_tree = mccTree(treetrace, \"../Projet/analyses/fish_clock_1.tree\")"
   ]
  },
  {
   "cell_type": "code",
   "execution_count": null,
   "id": "652b7be1",
   "metadata": {},
   "outputs": [],
   "source": []
  }
 ],
 "metadata": {
  "kernelspec": {
   "display_name": "RevBayes",
   "language": "bash",
   "name": "revbayes_kernel"
  },
  "language_info": {
   "codemirror_mode": {
    "name": "r"
   },
   "file_extension": ".Rev",
   "help_links": [
    {
     "text": "RevBayes",
     "url": "https://revbayes.org"
    },
    {
     "text": "RevBayes Kernel",
     "url": "https://github.com/sdwfrost/revbayes_kernel"
    },
    {
     "text": "MetaKernel Magics",
     "url": "https://metakernel.readthedocs.io/en/latest/source/README.html"
    }
   ],
   "mimetype": "text/x-rsrc",
   "name": "RevBayes",
   "pygments_lexer": "R"
  }
 },
 "nbformat": 4,
 "nbformat_minor": 5
}
