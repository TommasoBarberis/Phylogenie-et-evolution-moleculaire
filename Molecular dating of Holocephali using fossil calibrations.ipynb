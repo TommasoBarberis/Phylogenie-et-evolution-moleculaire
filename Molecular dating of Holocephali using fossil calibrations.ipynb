{
 "cells": [
  {
   "cell_type": "markdown",
   "id": "d6dfd415",
   "metadata": {},
   "source": [
    "# Molecular dating of Holocephali using fossil calibrations\n",
    "\n",
    "\n",
    "## 1. Introduction\n",
    "\n",
    "### 1.1 L'article\n",
    "Grâce à la leur position à la base des poissons __osseux__, les poissons __cartilagineux__ sont considérés comme un excellent _outgroup_ dans les études comparatives des vertebrés.\n",
    "<br/>\n",
    "Récemment, le génome de _Callorhinchus milii_ (__chimère éléphant__) a été proposé comme génome modèle pour comprendre l'histoire évolutive des génomes vertebrés grâce sa position phylogénétique et à son génome de petite taille (910 Mb). Malgré un tel intérêt croissant, l’histoire évolutive des _holophaceans_ modernes ainsi que leur rélation avec _Elasmobranchii_ (sous-classe de _Chondrichthyes_, qui regroupe les requins, raies et chimères) et d'autres vertebrés à machoire n'a pas été bien documentée à cause de l'absence de matériaux fossiles bien conservés.\n",
    "<br/><br/>\n",
    "Dans cette étude, les auteurs ont assemblé le génome mitchondrial de 8 représentants de trois familles d'_holophaceans_ modernes, pour pouvoir étudier leurs rélations phylogénétiques et histoire évolutive. Pour faire cela, ils ont analysé par __maximum__ de __vraisemblance__ les séquences alignées sans ambiguïté de ces _holophaceans_ avec 17 autres vertebrés (9,409 positions nucléotidiques en excludant la troisième position du codon).\n",
    "<br/>\n",
    "L'arbre généré supporte l'hypothèse d'une seule origine des _holophaceans_ modernes et leur relation avec le groupe-soeur des _Elasmobranchii_. \n",
    "L’arbre mitogénomique a récupéré le plus grand nombre de _Callorhinchus_ basaux dans les _Chimaeriformes_, lequel est groupe-soeur avec les clades des deux familles restantes (_Rhinochimaeridae_ et _Chimaeridae_). \n",
    "<br/>\n",
    "L’arbre temporel dérivé d’une horloge moléculaire détendue bayésienne suggère que les _holophaceans_ sont originaires du __Silurien__ vers 420 Ma, ayant survécu dans la fin du __Permien__ à l'extinction de masse et qui ont subi une diversification familiale de la fin du __Jurassique__ au début du __Crétacé__. Ce scénario évolutif proposé est bien en accord avec celui basé sur les observations paléontologiques.\n",
    "<br/><br/>\n",
    "Source: [Evolutionary Origin and Phylogeny of the Modern Holocephalans (Chondrichthyes: Chimaeriformes): A Mitogenomic Perspective](https://academic.oup.com/mbe/article/27/11/2576/1121974?login=true)\n",
    "\n",
    "### 1.2 Le projet\n",
    "La datation d’une phylogénie repose sur l’interprétation de la divergence entre les séquences à la lumière des calibrations fossiles, et à la lumière des _a priori_ sur ces calibrations et sur la forme de la phylogénie. <br/>\n",
    "Il s’agit d’un problème inférentiel difficile où les _a priori_ et les __mouvements__ qui sont utilisés peuvent avoir un impact important sur le résultat et sur la convergence du __MCMC__. Dans ce projet, on va ré-analyser un ensemble de données construit par _Inoue et al._ (cfr. __1.1 L'article__) pour évaluer la robustesse de leurs résultats par rapport aux _a priori_ ou aux __mouvements__ qui sont utilisés.\n",
    "\n",
    "### 1.3 Les données\n",
    "Comme anticipé dans la section __1.1 L'article__, les données sont constituées par des génomes mitochrondiaux entiers assemblés de 8 _holophaceans_ (répresentant les trois familles):\n",
    "- _Callorhinchus milii_ (**_Callorhinchidae_**)\n",
    "- _Callorhinchus capensis_ (**_Callorhinchidae_**)\n",
    "- _Callorhinchus callorynchus_ (**_Callorhinchidae_**)\n",
    "- _Hariotta raleighana_ (**_Rhinochimaeridae_**)\n",
    "- _Rhinochimaera pacifica_ (**_Rhinochimaeridae_**)\n",
    "- _Hydrolagus lemures_ (**_Chimaeridae_**)\n",
    "- _Chimaera sp_ (**_Chimaeridae_**)\n",
    "- _Chimaera monstrosa_ (**_Chimaeridae_**)\n",
    "\n",
    "Et 15 autres vertebres: _Cyprinus carpio_, _Polymixia japonica_, _Tetraodon nigroviridis_, _Protopterus aethiopicus_, _Xenopus tropicalis_, _Struthio camelus_, _Ornithorhynchus anatinus_, _Homo sapiens_, _Plesiobatis daviesi_, _Okamejei kenojei_, _Amblyraja radiata_, _Squalus acanthias_, _Heterodontus francisci_, _Scyliorhinus canicula_, _Mustelus manazo_.\n",
    "<br/>\n",
    "Les séquences sont contenues dans le fichier `aln_prot.fst`. Il contient les séquences d'acides aminés de 12 gènes codant des protéines des génomes mitochondriaux (exclusion des gènes ARNt et ARNr)."
   ]
  },
  {
   "cell_type": "code",
   "execution_count": 1,
   "id": "ed56244c",
   "metadata": {},
   "outputs": [
    {
     "name": "stdout",
     "output_type": "stream",
     "text": [
      "   Missing Variable:\tVariable os does not exist\n",
      "\n",
      "   Successfully read one character matrix from file '../Projet/fishes/aln_prot.fst'\n"
     ]
    }
   ],
   "source": [
    "# read nucleotide data\n",
    "data <- readDiscreteCharacterData(\"../Projet/fishes/aln_prot.fst\")\n",
    "\n",
    "n_species <- data.ntaxa()\n",
    "n_branches <- 2 * n_species - 2 # car on veut un arbre enraciné\n",
    "taxa <- data.taxa()\n",
    "\n",
    "# root age\n",
    "root_age ~ dnUniform(0,1000)"
   ]
  },
  {
   "cell_type": "code",
   "execution_count": 3,
   "id": "fa1950bf",
   "metadata": {},
   "outputs": [
    {
     "name": "stdout",
     "output_type": "stream",
     "text": [
      "   Error:\tUnexpected number of taxa (remaining #taxa was 23 and age was 133.9 with maximum age of 133.9) in tree simulation\r\n"
     ]
    }
   ],
   "source": [
    "# tree is produced by a birth death process\n",
    "\n",
    "# speciation rate\n",
    "lambda ~ dnExponential(1.0) # fix to 1\n",
    "lambda.setValue(1.0)\n",
    "# extinction rate\n",
    "mu ~ dnExponential(1.0) # fix to 1\n",
    "mu.setValue(1.0)\n",
    "# sampling fraction (in the present)\n",
    "# here, we assume that all species (all primates in this case) have been sampled\n",
    "rho <- 0.00046 # 23 sampled species / 50'000 vertebrates species estimated\n",
    "\n",
    "# time tree produced by a birth-death process (BDP)\n",
    "timetree ~ dnBDP(lambda, mu, rho, root_age, samplingStrategy=\"uniform\", condition=\"nTaxa\", taxa=taxa)"
   ]
  },
  {
   "cell_type": "code",
   "execution_count": 4,
   "id": "94e03cbb",
   "metadata": {},
   "outputs": [
    {
     "name": "stdout",
     "output_type": "stream",
     "text": [
      "   Attempting to read the contents of file \"vertebrate_Poisson_NJ.tree\"\r\n",
      "   Successfully read file\r\n"
     ]
    }
   ],
   "source": [
    "# read tree from file\n",
    "tree <- readTrees(\"../Projet/fishes/vertebrate_Poisson_NJ.tree\", treetype=\"clock\")[1]\n",
    "# ajust terminal branch lengths so as to make the tree ultrametric\n",
    "tree.makeUltrametric()\n",
    "\n",
    "# set the value of the tree topology\n",
    "timetree.setValue(tree)\n",
    "\n",
    "# rescale root age to 1.0\n",
    "# (all ages will be relative to the root)\n",
    "root_age.setValue(10.0) # fix to 10.0"
   ]
  },
  {
   "cell_type": "code",
   "execution_count": null,
   "id": "c8f6db08",
   "metadata": {},
   "outputs": [
    {
     "name": "stdout",
     "output_type": "stream",
     "text": [
      "   \n",
      "   Running MCMC simulation\n",
      "   This simulation runs 1 independent replicate.\n",
      "   The simulator uses 4 different moves in a random move schedule with 26 moves per iteration\n",
      "   \n",
      "\n",
      "Iter        |      Posterior   |     Likelihood   |          Prior   |      clockrate   |    elapsed   |        ETA   |\n",
      "-----------------------------------------------------------------------------------------------------------------------\n",
      "0           |        -207613   |        -207557   |       -56.3603   |            443   |   00:00:00   |   --:--:--   |\n",
      "100         |         -66057   |       -66050.2   |       -6.86087   |            443   |   00:00:16   |   --:--:--   |\n",
      "200         |       -64952.8   |       -64944.7   |       -8.01968   |            443   |   00:00:30   |   00:24:30   |\n",
      "300         |       -62162.4   |       -62154.3   |       -8.12355   |            443   |   00:00:43   |   00:23:10   |\n",
      "400         |       -62030.9   |         -62025   |       -5.89637   |            443   |   00:00:57   |   00:22:48   |\n",
      "500         |       -57747.2   |       -57741.2   |       -5.97522   |            443   |   00:01:11   |   00:22:29   |\n",
      "600         |       -56213.6   |       -56207.6   |       -5.96948   |            443   |   00:01:24   |   00:21:56   |\n",
      "700         |       -55911.1   |       -55904.5   |       -6.62961   |            443   |   00:01:39   |   00:21:55   |\n",
      "800         |       -55904.8   |       -55898.1   |        -6.7389   |            443   |   00:01:53   |   00:21:39   |\n",
      "900         |       -55906.9   |       -55902.6   |       -4.32291   |            443   |   00:02:07   |   00:21:24   |\n",
      "1000        |       -55903.4   |       -55897.5   |       -5.87803   |            443   |   00:02:22   |   00:21:18   |\n",
      "1100        |       -55903.5   |       -55898.5   |        -4.9912   |            443   |   00:02:36   |   00:21:02   |\n",
      "1200        |         -55902   |       -55896.7   |       -5.32184   |            443   |   00:02:49   |   00:20:39   |\n",
      "1300        |       -55902.1   |       -55897.8   |       -4.30411   |            443   |   00:03:03   |   00:20:24   |\n",
      "1400        |       -55904.6   |       -55899.3   |        -5.3003   |            443   |   00:03:18   |   00:20:16   |\n",
      "1500        |       -55912.6   |       -55906.7   |       -5.89891   |            443   |   00:03:32   |   00:20:01   |\n",
      "1600        |       -55906.9   |         -55900   |       -6.91143   |            443   |   00:03:46   |   00:19:46   |\n",
      "1700        |       -55902.2   |       -55897.3   |       -4.95078   |            443   |   00:03:59   |   00:19:26   |\n",
      "1800        |       -55900.9   |       -55894.9   |       -5.99892   |            443   |   00:04:13   |   00:19:12   |\n",
      "1900        |       -55901.1   |       -55896.8   |       -4.24001   |            443   |   00:04:27   |   00:18:58   |\n",
      "\n",
      "\n",
      "Iter        |      Posterior   |     Likelihood   |          Prior   |      clockrate   |    elapsed   |        ETA   |\n",
      "-----------------------------------------------------------------------------------------------------------------------\n",
      "2000        |       -55904.8   |       -55900.7   |       -4.13432   |            443   |   00:04:41   |   00:18:44   |\n",
      "2100        |       -55905.1   |         -55901   |        -4.1456   |            443   |   00:04:54   |   00:18:26   |\n",
      "2200        |       -54329.7   |       -54325.8   |       -3.87886   |            443   |   00:05:08   |   00:18:12   |\n",
      "2300        |       -54316.8   |       -54311.1   |       -5.70646   |            443   |   00:05:23   |   00:18:01   |\n",
      "2400        |       -54320.6   |       -54315.4   |       -5.22047   |            443   |   00:05:42   |   00:18:03   |\n",
      "2500        |       -54328.9   |       -54323.9   |       -5.03851   |            443   |   00:05:56   |   00:17:48   |\n",
      "2600        |       -54325.1   |         -54321   |        -4.0375   |            443   |   00:06:11   |   00:17:35   |\n",
      "2700        |       -54318.8   |       -54314.2   |        -4.5918   |            443   |   00:06:28   |   00:17:29   |\n",
      "2800        |       -54317.3   |       -54313.4   |       -3.85865   |            443   |   00:06:44   |   00:17:18   |\n",
      "2900        |       -54318.6   |       -54313.3   |       -5.30764   |            443   |   00:06:59   |   00:17:05   |\n",
      "3000        |       -54320.4   |       -54315.6   |       -4.84761   |            443   |   00:07:15   |   00:16:55   |\n",
      "3100        |       -54319.9   |       -54314.3   |       -5.52609   |            443   |   00:07:29   |   00:16:39   |\n",
      "3200        |       -54321.4   |       -54314.8   |       -6.62128   |            443   |   00:07:43   |   00:16:23   |\n",
      "3300        |       -54322.8   |       -54315.1   |        -7.7125   |            443   |   00:07:58   |   00:16:10   |\n",
      "3400        |       -54318.5   |       -54314.1   |       -4.40413   |            443   |   00:08:14   |   00:15:58   |"
     ]
    }
   ],
   "source": [
    "# we assume a strict molecular clock, of unknown rate\n",
    "clockrate <- 443.0 #~ dnExponential(1.0)\n",
    "\n",
    "# and a T92 process\n",
    "# kappa ~ dnExponential(0.1)\n",
    "# gamma ~ dnBeta(1.0, 1.0)\n",
    "Q := fnMtRev()\n",
    "\n",
    "seq ~ dnPhyloCTMC( tree=timetree, Q=Q, branchRates=clockrate, type=\"AA\" )\n",
    "# le taux d'évolution dans toutes les branches est égale au clockrate\n",
    "seq.clamp( data )\n",
    "\n",
    "my_model = model(timetree)\n",
    "\n",
    "# moves\n",
    "moves = VectorMoves()\n",
    "\n",
    "moves.append(mvScale(lambda, weight=1.0))\n",
    "moves.append(mvScale(mu, weight=1.0))\n",
    "\n",
    "# moves.append(mvSlide(gamma, weight=1.0, delta=0.1))\n",
    "# moves.append(mvScale(kappa, weight=1.0))\n",
    "# moves.append(mvScale(clockrate, weight=1.0, lambda=0.1))\n",
    "\n",
    "moves.append(mvNodeTimeSlideUniform(timetree, weight=20)) # bouge un seul noeud\n",
    "moves.append(mvSubtreeScale(timetree, weight=4)) # bouge de façon proportionnel tous les noeuds d'un sous-arbre\n",
    "\n",
    "monitors[1] = mnModel(filename=\"../Projet/analyses/fish_clock_1.log\", printgen=10, separator = TAB)\n",
    "monitors[2] = mnFile(timetree ,filename=\"../Projet/analyses/fish_clock_1.trees\", printgen=10, separator = TAB)\n",
    "monitors[3] = mnScreen(printgen=100, clockrate)\n",
    "\n",
    "# Make the analysis object\n",
    "analysis = mcmc(my_model, monitors, moves)\n",
    "# Run the MCMC\n",
    "analysis.run(10000)\n",
    "\n",
    "treetrace = readTreeTrace(\"../Projet/analyses/fish_clock_1.trees\", treetype=\"clock\", burnin=0.1)\n",
    "map_tree = mccTree(treetrace, \"../Projet/analyses/fish_clock_1.tree\")"
   ]
  },
  {
   "cell_type": "code",
   "execution_count": null,
   "id": "652b7be1",
   "metadata": {},
   "outputs": [],
   "source": []
  }
 ],
 "metadata": {
  "kernelspec": {
   "display_name": "RevBayes",
   "language": "bash",
   "name": "revbayes_kernel"
  },
  "language_info": {
   "codemirror_mode": {
    "name": "r"
   },
   "file_extension": ".Rev",
   "help_links": [
    {
     "text": "RevBayes",
     "url": "https://revbayes.org"
    },
    {
     "text": "RevBayes Kernel",
     "url": "https://github.com/sdwfrost/revbayes_kernel"
    },
    {
     "text": "MetaKernel Magics",
     "url": "https://metakernel.readthedocs.io/en/latest/source/README.html"
    }
   ],
   "mimetype": "text/x-rsrc",
   "name": "RevBayes",
   "pygments_lexer": "R"
  }
 },
 "nbformat": 4,
 "nbformat_minor": 5
}
