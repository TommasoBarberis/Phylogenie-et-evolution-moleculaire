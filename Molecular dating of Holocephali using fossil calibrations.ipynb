{
 "cells": [
  {
   "cell_type": "markdown",
   "id": "9a2940cb",
   "metadata": {},
   "source": [
    "# Molecular dating of Holocephali using fossil calibrations\n",
    "\n",
    "\n",
    "## 1. Introduction\n",
    "\n",
    "### 1.1 L'article\n",
    "Grâce à la leur position à la base des poissons __osseux__, les poissons __cartilagineux__ sont considérés comme un excellent _outgroup_ dans les études comparatives des vertebrés.\n",
    "<br/>\n",
    "Récemment, le génome de _Callorhinchus milii_ (__chimère éléphant__) a été proposé comme génome modèle pour comprendre l'histoire évolutive des génomes vertebrés grâce sa position phylogénétique et à son génome de petite taille (910 Mb). Malgré un tel intérêt croissant, l’histoire évolutive des _holophaceans_ modernes ainsi que leur rélation avec _Elasmobranchii_ (sous-classe de _Chondrichthyes_, qui regroupe les requins, raies et chimères) et d'autres vertebrés à machoire n'a pas été bien documentée à cause de l'absence de matériaux fossiles bien conservés.\n",
    "<br/><br/>\n",
    "Dans cette étude, les auteurs ont assemblé le génome mitchondrial de 8 représentants de trois familles d'_holophaceans_ modernes, pour pouvoir étudier leurs rélations phylogénétiques et histoire évolutive. Pour faire cela, ils ont analysé par __maximum__ de __vraisemblance__ les séquences alignées sans ambiguïté de ces _holophaceans_ avec 17 autres vertebrés (9,409 positions nucléotidiques en excludant la troisième position du codon).\n",
    "<br/>\n",
    "L'arbre généré supporte l'hypothèse d'une seule origine des _holophaceans_ modernes et leur relation avec le groupe-soeur des _Elasmobranchii_. \n",
    "L’arbre mitogénomique a récupéré le plus grand nombre de _Callorhinchus_ basaux dans les _Chimaeriformes_, lequel est groupe-soeur avec les clades des deux familles restantes (_Rhinochimaeridae_ et _Chimaeridae_). \n",
    "<br/>\n",
    "L’arbre temporel dérivé d’une horloge moléculaire détendue bayésienne suggère que les _holophaceans_ sont originaires du __Silurien__ vers 420 Ma, ayant survécu dans la fin du __Permien__ à l'extinction de masse et qui ont subi une diversification familiale de la fin du __Jurassique__ au début du __Crétacé__. Ce scénario évolutif proposé est bien en accord avec celui basé sur les observations paléontologiques.\n",
    "<br/><br/>\n",
    "Source: [Evolutionary Origin and Phylogeny of the Modern Holocephalans (Chondrichthyes: Chimaeriformes): A Mitogenomic Perspective](https://academic.oup.com/mbe/article/27/11/2576/1121974?login=true)\n",
    "\n",
    "### 1.2 Le projet\n",
    "La datation d’une phylogénie repose sur l’interprétation de la divergence entre les séquences à la lumière des calibrations fossiles, et à la lumière des _a priori_ sur ces calibrations et sur la forme de la phylogénie. <br/>\n",
    "Il s’agit d’un problème inférentiel difficile où les _a priori_ et les __mouvements__ qui sont utilisés peuvent avoir un impact important sur le résultat et sur la convergence du __MCMC__. Dans ce projet, on va ré-analyser un ensemble de données construit par _Inoue et al._ (cfr. __1.1 L'article__) pour évaluer la robustesse de leurs résultats par rapport aux _a priori_ ou aux __mouvements__ qui sont utilisés.\n",
    "\n",
    "### 1.3 Les données\n",
    "Comme anticipé dans la section __1.1 L'article__, les données sont constituées par des génomes mitochrondiaux entiers assemblés de 8 _holophaceans_ (répresentant les trois familles):\n",
    "- _Callorhinchus milii_ (**_Callorhinchidae_**)\n",
    "- _Callorhinchus capensis_ (**_Callorhinchidae_**)\n",
    "- _Callorhinchus callorynchus_ (**_Callorhinchidae_**)\n",
    "- _Hariotta raleighana_ (**_Rhinochimaeridae_**)\n",
    "- _Rhinochimaera pacifica_ (**_Rhinochimaeridae_**)\n",
    "- _Hydrolagus lemures_ (**_Chimaeridae_**)\n",
    "- _Chimaera sp_ (**_Chimaeridae_**)\n",
    "- _Chimaera monstrosa_ (**_Chimaeridae_**)\n",
    "\n",
    "Et 15 autres vertebres: _Cyprinus carpio_, _Polymixia japonica_, _Tetraodon nigroviridis_, _Protopterus aethiopicus_, _Xenopus tropicalis_, _Struthio camelus_, _Ornithorhynchus anatinus_, _Homo sapiens_, _Plesiobatis daviesi_, _Okamejei kenojei_, _Amblyraja radiata_, _Squalus acanthias_, _Heterodontus francisci_, _Scyliorhinus canicula_, _Mustelus manazo_.\n",
    "<br/>\n",
    "Les séquences sont contenues dans le fichier `aln_prot.fst`. Il contient les séquences d'acides aminés de 12 gènes codant des protéines des génomes mitochondriaux (exclusion des gènes ARNt et ARNr)."
   ]
  },
  {
   "cell_type": "markdown",
   "id": "be7cc2da",
   "metadata": {},
   "source": [
    "- Origin time: $\\phi \\sim Unif(300, 750)$\n",
    "<!-- - Fossilization rate: $\\psi \\sim Exp(10)$ -->\n",
    "- Speciation rate: $\\lambda \\approx 1$\n",
    "- Sampling rate: $\\rho = 0$\n",
    "- Exctintion rate: $\\mu = 1$\n",
    "- Topology and divergence time: $\\tau$\n",
    "<br/>\n",
    "\n",
    "- Substitution matrix: $Q$ (MtRev model)\n",
    "<br/>\n",
    "\n",
    "- clockrate mean: $m \\sim Exp(1)$\n",
    "- clock rate relative variance: $v \\sim Exp(1)$\n",
    "- alpha _Gamma_'s parameter: $1 / v$\n",
    "- beta _Gamma_'s parameter: $\\alpha / m$\n",
    "- clock rate: $c \\sim Gamma(\\alpha, \\beta)$"
   ]
  },
  {
   "cell_type": "code",
   "execution_count": 1,
   "id": "f837bd3b",
   "metadata": {},
   "outputs": [
    {
     "name": "stdout",
     "output_type": "stream",
     "text": [
      "   Missing Variable:\tVariable os does not exist\n",
      "\n",
      "   Successfully read one character matrix from file '../Projet/fishes/aln_prot.fst'\n"
     ]
    }
   ],
   "source": [
    "################################################################################\n",
    "#\n",
    "# RevBayes script: BDP analysis with fossil calibrations\n",
    "#\n",
    "# authors: Barberis Tommaso, Verneret Marie, Chareyre Marie, Frouté Timothée\n",
    "#\n",
    "################################################################################\n",
    "\n",
    "#######################\n",
    "# Reading in the Data #\n",
    "#######################\n",
    "# read nucleotide data\n",
    "data <- readDiscreteCharacterData(\"../Projet/fishes/aln_prot.fst\")\n",
    "\n",
    "# n_taxa <- taxa.size()\n",
    "taxa <- data.taxa()\n",
    "n_species <- data.ntaxa()\n",
    "n_branches <- 2 * n_species - 2\n",
    "\n",
    "moves = VectorMoves()"
   ]
  },
  {
   "cell_type": "code",
   "execution_count": 2,
   "id": "3169b6f2",
   "metadata": {
    "scrolled": true
   },
   "outputs": [],
   "source": [
    "##########################################################################################\n",
    "# Joint Fossil Birth-Death Process prior on the topology and fossil occurrence times #\n",
    "##########################################################################################\n",
    "\n",
    "# Define exponential priors on the birth rate and death rate #\n",
    "# speciation rate\n",
    "lambda <- 1.000001\n",
    "\n",
    "# extinction rate\n",
    "mu <- 1.0\n",
    "\n",
    "# sampling fraction (in the present)\n",
    "rho <- 0.00001\n",
    "\n",
    "# The BD is conditioned on a starting time for the process, which is the origin time #\n",
    "# Specify a uniform prior on the origin \n",
    "origin_time ~ dnUniform(300,750)\n",
    "\n",
    "moves.append(mvScale(origin_time, weight=1.0, lambda=0.1))"
   ]
  },
  {
   "cell_type": "code",
   "execution_count": 3,
   "id": "a21c72ab",
   "metadata": {},
   "outputs": [],
   "source": [
    "### Define the tree-prior distribution as the birth-death process ###\n",
    "timetree ~ dnBDP(rootAge=origin_time, lambda=lambda, mu=mu, rho=rho, taxa=taxa, samplingStrategy=\"uniform\", condition=\"nTaxa\")"
   ]
  },
  {
   "cell_type": "code",
   "execution_count": 4,
   "id": "70cef9f4",
   "metadata": {},
   "outputs": [
    {
     "name": "stdout",
     "output_type": "stream",
     "text": [
      "  \r\n",
      "   (((Hariotta_raleighana[&index=23]:225.180554,Struthio_camelus[&index=22]:225.180554)[&index=24]:68.164769,((Protopterus_aethiopicus[&index=21]:16.855105,Xenopus_tropicalis[&index=20]:16.855105)[&index=25]:210.436149,(Ornithorhynchus_anatinus[&index=19]:148.629698,Tetraodon_nigroviridis[&index=18]:148.629698)[&index=26]:78.661556)[&index=27]:66.054069)[&index=28]:283.944154,((((((Homo_sapiens[&index=17]:94.753713,Squalus_acanthias[&index=16]:94.753713)[&index=29]:227.958746,(Rhinochimaera_pacifica[&index=15]:33.464059,Polymixia_japonica[&index=14]:33.464059)[&index=30]:289.248400)[&index=31]:28.153888,Chimaera_sp[&index=13]:350.866347)[&index=32]:97.373732,((Callorhinchus_milii[&index=12]:156.869772,Hydrolagus_lemures[&index=11]:156.869772)[&index=33]:4.084804,Callorhinchus_capensis[&index=10]:160.954575)[&index=34]:287.285504)[&index=35]:11.560945,(Okamejei_kenojei[&index=9]:434.237286,(Heterodontus_francisci[&index=8]:410.866272,Chimaera_monstrosa[&index=7]:410.866272)[&index=36]:23.371015)[&index=37]:25.563738)[&index=38]:104.587455,(Cyprinus_carpio[&index=6]:514.599450,((Mustelus_manazo[&index=5]:356.997423,Scyliorhinus_canicula[&index=4]:356.997423)[&index=39]:116.825805,(Plesiobatis_daviesi[&index=3]:407.991211,(Amblyraja_radiata[&index=2]:348.708202,Callorhinchus_callorynchus[&index=1]:348.708202)[&index=40]:59.283009)[&index=41]:65.832017)[&index=42]:40.776222)[&index=43]:49.789029)[&index=44]:12.900997)[&index=45]:0.000000;\r\n"
     ]
    }
   ],
   "source": [
    "timetree"
   ]
  },
  {
   "cell_type": "code",
   "execution_count": 5,
   "id": "8c573065",
   "metadata": {},
   "outputs": [],
   "source": [
    "# These moves update the node ages and the tree shape #\n",
    "moves.append( mvNodeTimeSlideUniform(timetree, weight=20.0) )\n",
    "moves.append( mvRootTimeSlideUniform(timetree, origin_time, weight=4.0) )\n",
    "moves.append(mvSubtreeScale(timetree, weight=4))"
   ]
  },
  {
   "cell_type": "code",
   "execution_count": 6,
   "id": "7c82b378",
   "metadata": {},
   "outputs": [
    {
     "name": "stdout",
     "output_type": "stream",
     "text": [
      "   Attempting to read the contents of file \"vertebrate_Poisson_NJ.tree\"\r\n",
      "   Successfully read file\r\n"
     ]
    }
   ],
   "source": [
    "# read tree topology from file\n",
    "tree <- readTrees(\"../Projet/fishes/vertebrate_Poisson_NJ.tree\", treetype=\"clock\")[1]"
   ]
  },
  {
   "cell_type": "code",
   "execution_count": 7,
   "id": "f0f2a376",
   "metadata": {},
   "outputs": [
    {
     "name": "stdout",
     "output_type": "stream",
     "text": [
      "  \r\n",
      "   ((((Squalus_acanthias[&index=23]:0.040710,((Mustelus_manazo[&index=22]:0.031320,Scyliorhinus_canicula[&index=21]:0.043080)[&index=24]:0.010170,Heterodontus_francisci[&index=20]:0.042350)[&index=25]:0.004480)[&index=26]:0.017110,((Amblyraja_radiata[&index=19]:0.021970,Okamejei_kenojei[&index=18]:0.031320)[&index=27]:0.036820,Plesiobatis_daviesi[&index=17]:0.084620)[&index=28]:0.009850)[&index=29]:0.023300,((((Chimaera_monstrosa[&index=16]:0.016590,Chimaera_sp[&index=15]:0.017640)[&index=30]:0.012410,Hydrolagus_lemures[&index=14]:0.033440)[&index=31]:0.011530,(Rhinochimaera_pacifica[&index=13]:0.020300,Hariotta_raleighana[&index=12]:0.023250)[&index=32]:0.026530)[&index=33]:0.009060,(Callorhinchus_callorynchus[&index=11]:0.003400,(Callorhinchus_capensis[&index=10]:0.002350,Callorhinchus_milii[&index=9]:0.001360)[&index=34]:0.000780)[&index=35]:0.046730)[&index=36]:0.074110)[&index=37]:0.011030,(((Tetraodon_nigroviridis[&index=8]:0.064100,Polymixia_japonica[&index=7]:0.056080)[&index=38]:0.011000,Cyprinus_carpio[&index=6]:0.063160)[&index=39]:0.027770,((Xenopus_tropicalis[&index=5]:0.108200,(Struthio_camelus[&index=4]:0.163690,(Homo_sapiens[&index=3]:0.173050,Ornithorhynchus_anatinus[&index=2]:0.131620)[&index=40]:0.058240)[&index=41]:0.019200)[&index=42]:0.009650,Protopterus_aethiopicus[&index=1]:0.148200)[&index=43]:0.008800)[&index=44]:0.000580)[&index=45]:0.000000;\r\n"
     ]
    }
   ],
   "source": [
    "tree"
   ]
  },
  {
   "cell_type": "code",
   "execution_count": 8,
   "id": "b71d7c51",
   "metadata": {},
   "outputs": [],
   "source": [
    "# ajust terminal branch lengths so as to make the tree ultrametric\n",
    "tree.makeUltrametric()\n",
    "\n",
    "# rescale all the nodes of the tree\n",
    "tree.rescale(750/tree.rootAge())"
   ]
  },
  {
   "cell_type": "code",
   "execution_count": 9,
   "id": "ed39cd4d",
   "metadata": {},
   "outputs": [
    {
     "name": "stdout",
     "output_type": "stream",
     "text": [
      "  \r\n",
      "   ((((Squalus_acanthias[&index=23]:606.856634,((Mustelus_manazo[&index=22]:566.089715,Scyliorhinus_canicula[&index=21]:566.089715)[&index=24]:28.300312,Heterodontus_francisci[&index=20]:594.390027)[&index=25]:12.466607)[&index=26]:47.612422,((Amblyraja_radiata[&index=19]:524.599288,Okamejei_kenojei[&index=18]:524.599288)[&index=27]:102.459929,Plesiobatis_daviesi[&index=17]:627.059216)[&index=28]:27.409840)[&index=29]:64.837489,((((Chimaera_monstrosa[&index=16]:421.248887,Chimaera_sp[&index=15]:421.248887)[&index=30]:34.533615,Hydrolagus_lemures[&index=14]:455.782502)[&index=31]:32.084817,(Rhinochimaera_pacifica[&index=13]:414.041630,Hariotta_raleighana[&index=12]:414.041630)[&index=32]:73.825690)[&index=33]:25.211487,(Callorhinchus_callorynchus[&index=11]:383.042075,(Callorhinchus_capensis[&index=10]:380.871549,Callorhinchus_milii[&index=9]:380.871549)[&index=34]:2.170525)[&index=35]:130.036732)[&index=36]:206.227738)[&index=37]:30.693455,(((Tetraodon_nigroviridis[&index=8]:640.499777,Polymixia_japonica[&index=7]:640.499777)[&index=38]:30.609973,Cyprinus_carpio[&index=6]:671.109751)[&index=39]:77.276269,((Xenopus_tropicalis[&index=5]:697.044746,(Struthio_camelus[&index=4]:643.616429,(Homo_sapiens[&index=3]:481.550534,Ornithorhynchus_anatinus[&index=2]:481.550534)[&index=40]:162.065895)[&index=41]:53.428317)[&index=42]:26.853295,Protopterus_aethiopicus[&index=1]:723.898041)[&index=43]:24.487979)[&index=44]:1.613980)[&index=45]:0.000000;\r\n"
     ]
    }
   ],
   "source": [
    "tree"
   ]
  },
  {
   "cell_type": "code",
   "execution_count": 10,
   "id": "91d11d94",
   "metadata": {},
   "outputs": [],
   "source": [
    "# set the value of the tree topology\n",
    "timetree.setValue(tree)"
   ]
  },
  {
   "cell_type": "code",
   "execution_count": 11,
   "id": "01814ceb",
   "metadata": {},
   "outputs": [],
   "source": [
    "# node calibration\n",
    "clade_1 <- clade(\"Cyprinus_carpio\",\"Chimaera_monstrosa\")\n",
    "minimum_bound_clade_1 <- 422\n",
    "maximum_bound_clade_1 <- 463\n",
    "speciation_clade_1 := tmrca(timetree, clade_1)\n",
    "obs_age_clade_1 ~ dnSoftBoundUniformNormal(min=minimum_bound_clade_1, max=maximum_bound_clade_1, sd=2, p=0.05)\n",
    "obs_age_clade_1.clamp( (minimum_bound_clade_1 + maximum_bound_clade_1)/2 )\n",
    "\n",
    "clade_2 <- clade(\"Cyprinus_carpio\",\"Homo_sapiens\")\n",
    "minimum_bound_clade_2 <- 416\n",
    "maximum_bound_clade_2 <- 422\n",
    "speciation_clade_2 := tmrca(timetree, clade_2)\n",
    "obs_age_clade_2 ~ dnSoftBoundUniformNormal(min=minimum_bound_clade_2, max=maximum_bound_clade_2, sd=2, p=0.05)\n",
    "obs_age_clade_2.clamp( (minimum_bound_clade_2 + maximum_bound_clade_2)/2 )\n",
    "\n",
    "clade_3 <- clade(\"Cyprinus_carpio\",\"Tetraodon_nigroviridis\")\n",
    "minimum_bound_3 <- 150\n",
    "speciation_clade_3 := tmrca(timetree, clade_3)\n",
    "obs_age_clade_3 ~ dnExponential(0.2, offset = -speciation_clade_3)\n",
    "obs_age_clade_3.clamp( -minimum_bound_3 )\n",
    "\n",
    "clade_6 <- clade(\"Xenopus_tropicalis\",\"Homo_sapiens\")\n",
    "minimum_bound_clade_6 <- 330\n",
    "maximum_bound_clade_6 <- 350\n",
    "speciation_clade_6 := tmrca(timetree, clade_6)\n",
    "obs_age_clade_6 ~ dnSoftBoundUniformNormal(min=minimum_bound_clade_6, max=maximum_bound_clade_6, sd=2, p=0.05)\n",
    "obs_age_clade_6.clamp( (minimum_bound_clade_6 + maximum_bound_clade_6)/2 )\n",
    "\n",
    "clade_7 <- clade(\"Struthio_camelus\",\"Homo_sapiens\")\n",
    "minimum_bound_clade_7 <- 312\n",
    "maximum_bound_clade_7 <- 330\n",
    "speciation_clade_7 := tmrca(timetree, clade_7)\n",
    "obs_age_clade_7 ~ dnSoftBoundUniformNormal(min=minimum_bound_clade_7, max=maximum_bound_clade_7, sd=2, p=0.05)\n",
    "obs_age_clade_7.clamp( (minimum_bound_clade_7 + maximum_bound_clade_7)/2 )\n",
    "\n",
    "clade_8 <- clade(\"Ornithorhynchus_anatinus\",\"Homo_sapiens\")\n",
    "minimum_bound_clade_8 <- 163\n",
    "maximum_bound_clade_8 <- 191\n",
    "speciation_clade_8 := tmrca(timetree, clade_8)\n",
    "obs_age_clade_8 ~ dnSoftBoundUniformNormal(min=minimum_bound_clade_8, max=maximum_bound_clade_8, sd=2, p=0.05)\n",
    "obs_age_clade_8.clamp( (minimum_bound_clade_8 + maximum_bound_clade_8)/2 )\n",
    "\n",
    "clade_9 <- clade(\"Plesiobatis_daviesi\",\"Chimaera_monstrosa\")\n",
    "minimum_bound_clade_9 <- 410\n",
    "speciation_clade_9 := tmrca(timetree, clade_9)\n",
    "obs_age_clade_9 ~ dnExponential(0.2, offset = -speciation_clade_9)\n",
    "obs_age_clade_9.clamp( -minimum_bound_clade_9 )\n",
    "\n",
    "clade_10 <- clade(\"Plesiobatis_daviesi\",\"Mustelus_manazo\")\n",
    "minimum_bound_10 <- 190\n",
    "speciation_clade_10 := tmrca(timetree, clade_10)\n",
    "obs_age_clade_10 ~ dnExponential(0.2, offset = -speciation_clade_10)\n",
    "obs_age_clade_10.clamp( -minimum_bound_10 )\n",
    "\n",
    "clade_11 <- clade(\"Plesiobatis_daviesi\",\"Okamejei_kenojei\")\n",
    "minimum_bound_11 <- 176\n",
    "speciation_clade_11 := tmrca(timetree, clade_11)\n",
    "obs_age_clade_11 ~ dnExponential(0.2, offset = -speciation_clade_11)\n",
    "obs_age_clade_11.clamp( -minimum_bound_11 )\n",
    "\n",
    "clade_14 <- clade(\"Heterodontus_francisci\",\"Mustelus_manazo\")\n",
    "minimum_bound_14 <- 176\n",
    "speciation_clade_14 := tmrca(timetree, clade_14)\n",
    "obs_age_clade_14 ~ dnExponential(0.2, offset = -speciation_clade_14)\n",
    "obs_age_clade_14.clamp( -minimum_bound_14 )\n",
    "\n",
    "clade_15 <- clade(\"Scyliorhinus_canicula\",\"Mustelus_manazo\")\n",
    "minimum_bound_15 <- 165\n",
    "speciation_clade_15 := tmrca(timetree, clade_15)\n",
    "obs_age_clade_15 ~ dnExponential(0.2, offset = -speciation_clade_15)\n",
    "obs_age_clade_15.clamp( -minimum_bound_15 )\n",
    "\n",
    "clade_16 <- clade(\"Callorhinchus_callorynchus\",\"Chimaera_monstrosa\")\n",
    "minimum_bound_16 <- 161\n",
    "speciation_clade_16 := tmrca(timetree, clade_16)\n",
    "obs_age_clade_16 ~ dnExponential(0.2, offset = -speciation_clade_16)\n",
    "obs_age_clade_16.clamp( -minimum_bound_16 )\n",
    "\n",
    "clade_19 <- clade(\"Rhinochimaera_pacifica\",\"Chimaera_monstrosa\")\n",
    "minimum_bound_19 <- 84\n",
    "speciation_clade_19 := tmrca(timetree, clade_19)\n",
    "obs_age_clade_19 ~ dnExponential(0.2, offset = -speciation_clade_19)\n",
    "obs_age_clade_19.clamp( -minimum_bound_19 )\n"
   ]
  },
  {
   "cell_type": "code",
   "execution_count": 12,
   "id": "4db8afc9",
   "metadata": {},
   "outputs": [],
   "source": [
    "###########################################\n",
    "# Substitution model #\n",
    "###########################################\n",
    "#Create the Q matrix. These data are amino acid sequences, so we initialize the MtRev matrix #\n",
    "Q := fnMtRev()\n",
    "\n",
    "# We assume a relaxed morphological clock rate, drawn from an exponential prior #\n",
    "mean_clockrate ~ dnExponential(1.0)\n",
    "moves.append(mvScale(mean_clockrate, weight=1.0))\n",
    "\n",
    "relvar_clockrate ~ dnExponential(1.0)\n",
    "moves.append(mvScale(relvar_clockrate, weight=1.0))\n",
    "\n",
    "alpha := 1.0 / relvar_clockrate\n",
    "beta := alpha / mean_clockrate\n",
    "\n",
    "for (i in 1:n_branches) {\n",
    "    clockrate[i] ~ dnGamma(alpha, beta)\n",
    "}\n",
    "\n",
    "# Specify moves on the clockrate #\n",
    "for (i in 1:n_branches){\n",
    "    moves.append(mvScale(clockrate[i], weight=1.0, lambda=0.1))\n",
    "}"
   ]
  },
  {
   "cell_type": "code",
   "execution_count": 13,
   "id": "a48ade65",
   "metadata": {},
   "outputs": [],
   "source": [
    "### Create the substitution model and clamp with our observed Standard data ###\n",
    "seq ~ dnPhyloCTMC( tree=timetree, Q=Q, branchRates=clockrate,  type=\"AA\")\n",
    "seq.clamp( data )"
   ]
  },
  {
   "cell_type": "code",
   "execution_count": 14,
   "id": "4d2db225",
   "metadata": {
    "scrolled": true
   },
   "outputs": [
    {
     "name": "stdout",
     "output_type": "stream",
     "text": [
      "   \r\n",
      "   Protein character matrix with 23 taxa and 3248 characters\r\n",
      "   =========================================================\r\n",
      "   Origination:                   aln_prot.fst\r\n",
      "   Number of taxa:                23\r\n",
      "   Number of included taxa:       23\r\n",
      "   Number of characters:          3248\r\n",
      "   Number of included characters: 3248\r\n",
      "   Datatype:                      Protein\r\n",
      "   \r\n",
      "   \r\n"
     ]
    }
   ],
   "source": [
    "data"
   ]
  },
  {
   "cell_type": "code",
   "execution_count": 15,
   "id": "8784c4bf",
   "metadata": {},
   "outputs": [],
   "source": [
    "########\n",
    "# MCMC #\n",
    "########\n",
    "\n",
    "# initialize the model object #\n",
    "mymodel = model(timetree)"
   ]
  },
  {
   "cell_type": "code",
   "execution_count": 16,
   "id": "9d69a33d",
   "metadata": {},
   "outputs": [],
   "source": [
    "# monitors = VectorMonitors()"
   ]
  },
  {
   "cell_type": "code",
   "execution_count": 17,
   "id": "4a83aba6",
   "metadata": {},
   "outputs": [],
   "source": [
    "# Create a vector of monitors #\n",
    "# 1. for the full model #\n",
    "monitors[1] = mnModel(filename=\"analyses/fishes_relaxedclock.log\", printgen=10, separator = TAB)"
   ]
  },
  {
   "cell_type": "code",
   "execution_count": 18,
   "id": "5ab27146",
   "metadata": {},
   "outputs": [],
   "source": [
    "# 2. the tree #\n",
    "monitors[2] = mnFile(timetree, filename=\"analyses/fishes_relaxedclock.trees\", printgen=10, separator = TAB)"
   ]
  },
  {
   "cell_type": "code",
   "execution_count": 19,
   "id": "a0b1b6db",
   "metadata": {},
   "outputs": [],
   "source": [
    "# 3. and a few select parameters to be printed to the screen #\n",
    "monitors[3] = mnScreen(printgen=100, mean_clockrate, relvar_clockrate, origin_time)"
   ]
  },
  {
   "cell_type": "code",
   "execution_count": null,
   "id": "98d57947",
   "metadata": {},
   "outputs": [
    {
     "name": "stdout",
     "output_type": "stream",
     "text": [
      "   \n",
      "   Running MCMC simulation\n",
      "   This simulation runs 1 independent replicate.\n",
      "   The simulator uses 50 different moves in a random move schedule with 75 moves per iteration\n",
      "   \n",
      "\n",
      "Iter        |      Posterior   |     Likelihood   |          Prior   |   mean_clock..   |    origin_time   |   relvar_clo..   |    elapsed   |        ETA   |\n",
      "-------------------------------------------------------------------------------------------------------------------------------------------------------------\n",
      "0           |        -208461   |        -208234   |       -226.977   |      0.8850133   |            750   |       1.962005   |   00:00:00   |   --:--:--   |\n",
      "100         |        -132284   |        -132087   |       -197.424   |      0.4829016   |       591.3626   |       1.465287   |   00:00:35   |   --:--:--   |\n",
      "200         |        -109415   |        -109238   |       -176.954   |      0.5139251   |       560.7286   |       1.898347   |   00:01:11   |   04:54:39   |\n",
      "300         |       -97213.9   |       -97052.6   |       -161.237   |      0.3493398   |       560.7286   |       2.396062   |   00:01:46   |   04:52:40   |\n",
      "400         |       -91131.3   |         -90977   |       -154.355   |         0.4035   |       560.7286   |       2.348644   |   00:02:21   |   04:51:24   |\n",
      "500         |       -89680.2   |       -89530.9   |       -149.301   |      0.3869026   |       560.7286   |       2.784321   |   00:02:57   |   04:52:03   |\n",
      "600         |       -89514.6   |       -89368.2   |       -146.371   |      0.3657825   |       560.7286   |       3.044595   |   00:03:31   |   04:49:32   |\n",
      "700         |       -89506.7   |         -89362   |        -144.72   |      0.2959451   |       560.7286   |       2.925177   |   00:04:07   |   04:49:55   |\n",
      "800         |       -89505.8   |       -89361.5   |       -144.227   |      0.3585214   |       560.7286   |       2.621483   |   00:04:48   |   04:55:12   |\n",
      "900         |       -89492.1   |       -89351.7   |       -140.323   |      0.2896942   |       560.7335   |       2.515266   |   00:05:36   |   05:05:30   |\n",
      "1000        |       -89493.1   |       -89353.7   |       -139.403   |      0.1775445   |       560.7335   |       2.837013   |   00:06:23   |   05:12:47   |\n",
      "1100        |         -88668   |       -88531.4   |       -136.628   |      0.2556526   |       560.7335   |       2.775147   |   00:06:58   |   05:09:42   |\n",
      "1200        |       -85884.7   |       -85751.4   |       -133.274   |      0.1895474   |       560.7335   |       2.973731   |   00:07:31   |   05:05:40   |\n",
      "1300        |       -83225.4   |       -83089.5   |       -135.916   |      0.2854652   |       560.7335   |       3.787915   |   00:08:05   |   05:02:48   |\n",
      "1400        |       -81948.6   |       -81808.7   |       -139.946   |      0.4962962   |       560.7335   |       2.580816   |   00:08:40   |   05:00:51   |\n",
      "1500        |       -81502.7   |       -81365.1   |        -137.59   |      0.2193614   |       560.7335   |       2.926248   |   00:09:31   |   05:07:42   |\n",
      "1600        |       -81490.9   |       -81353.8   |       -137.096   |      0.3086769   |       560.7335   |       4.156523   |   00:10:11   |   05:08:02   |\n",
      "1700        |       -81492.4   |       -81358.1   |       -134.294   |      0.2588935   |       560.7335   |       3.417768   |   00:10:47   |   05:06:22   |\n",
      "1800        |       -81481.6   |       -81351.5   |       -130.031   |      0.1384706   |       560.7335   |       2.896415   |   00:11:32   |   05:08:50   |\n",
      "1900        |       -81480.4   |         -81352   |       -128.404   |      0.1919661   |       560.7335   |       3.082534   |   00:12:13   |   05:09:16   |"
     ]
    }
   ],
   "source": [
    "# Initialize the MCMC object #\n",
    "mymcmc = mcmc(mymodel, monitors, moves)\n",
    "\n",
    "# Run the MCMC #\n",
    "mymcmc.run(generations=50000)"
   ]
  },
  {
   "cell_type": "code",
   "execution_count": 21,
   "id": "d8ccafd8",
   "metadata": {},
   "outputs": [
    {
     "name": "stdout",
     "output_type": "stream",
     "text": [
      "\n",
      "Restarting kernel...\n",
      "Done!\n"
     ]
    }
   ],
   "source": [
    "treetrace = readTreeTrace(\"analyses/fishes_relaxedclock.trees\", treetype=\"clock\", burnin=0.1)\n",
    "map_tree = mccTree(treetrace, \"analyses/fishes_relaxedclock.tree\")"
   ]
  }
 ],
 "metadata": {
  "kernelspec": {
   "display_name": "RevBayes",
   "language": "bash",
   "name": "revbayes_kernel"
  },
  "language_info": {
   "codemirror_mode": {
    "name": "r"
   },
   "file_extension": ".Rev",
   "help_links": [
    {
     "text": "RevBayes",
     "url": "https://revbayes.org"
    },
    {
     "text": "RevBayes Kernel",
     "url": "https://github.com/sdwfrost/revbayes_kernel"
    },
    {
     "text": "MetaKernel Magics",
     "url": "https://metakernel.readthedocs.io/en/latest/source/README.html"
    }
   ],
   "mimetype": "text/x-rsrc",
   "name": "RevBayes",
   "pygments_lexer": "R"
  }
 },
 "nbformat": 4,
 "nbformat_minor": 5
}
