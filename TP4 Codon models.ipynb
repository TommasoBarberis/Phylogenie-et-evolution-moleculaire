{
 "cells": [
  {
   "cell_type": "markdown",
   "metadata": {},
   "source": [
    "# Codon models\n",
    "\n",
    "## Substitution models for protein-coding sequences"
   ]
  },
  {
   "cell_type": "markdown",
   "metadata": {},
   "source": [
    "Les mutations non-synonymes etant plus deletaires que les mutations synonymes, ont tendance à etre non selectionnées."
   ]
  },
  {
   "cell_type": "code",
   "execution_count": 1,
   "metadata": {},
   "outputs": [
    {
     "name": "stdout",
     "output_type": "stream",
     "text": [
      "   Missing Variable:\tVariable os does not exist\n",
      "\n",
      "   Successfully read one character matrix from file '/home/tommaso/M2/Semestre_3/Phylo/TP4/placZFX20.nex'\n"
     ]
    }
   ],
   "source": [
    "data <- readDiscreteCharacterData(\"/home/tommaso/M2/Semestre_3/Phylo/TP4/placZFX20.nex\")\n",
    "data_codon = data.translateCharacters(\"Codon\")"
   ]
  },
  {
   "cell_type": "code",
   "execution_count": 2,
   "metadata": {},
   "outputs": [
    {
     "name": "stdout",
     "output_type": "stream",
     "text": [
      "\r\n",
      "DNA character matrix with 20 taxa and 204 characters\r\n",
      "====================================================\r\n",
      "Origination:                   placZFX20.nex\r\n",
      "Number of taxa:                20\r\n",
      "Number of included taxa:       20\r\n",
      "Number of characters:          204\r\n",
      "Number of included characters: 204\r\n",
      "Datatype:                      DNA\r\n",
      "\r\n",
      "\r\n"
     ]
    }
   ],
   "source": [
    "print(data)"
   ]
  },
  {
   "cell_type": "code",
   "execution_count": 3,
   "metadata": {},
   "outputs": [
    {
     "name": "stdout",
     "output_type": "stream",
     "text": [
      "\r\n",
      "CODON character matrix with 20 taxa and 68 characters\r\n",
      "=====================================================\r\n",
      "Origination:                   \r\n",
      "Number of taxa:                20\r\n",
      "Number of included taxa:       20\r\n",
      "Number of characters:          68\r\n",
      "Number of included characters: 68\r\n",
      "Datatype:                      CODON\r\n",
      "\r\n",
      "\r\n"
     ]
    }
   ],
   "source": [
    "print(data_codon)"
   ]
  },
  {
   "cell_type": "code",
   "execution_count": 4,
   "metadata": {},
   "outputs": [],
   "source": [
    "# Model parameters\n",
    "omega = 0.2\n",
    "kappa ~ dnExponential(lambda = 0.1)"
   ]
  },
  {
   "cell_type": "code",
   "execution_count": 5,
   "metadata": {},
   "outputs": [
    {
     "name": "stdout",
     "output_type": "stream",
     "text": [
      "   Missing Variable:\tVariable nucstat does not exist\r\n"
     ]
    }
   ],
   "source": [
    "Q := fnCodonHKY(omega=omega, kappa=kappa, baseFrequencies=nucstat)"
   ]
  },
  {
   "cell_type": "code",
   "execution_count": 9,
   "metadata": {},
   "outputs": [
    {
     "name": "stdout",
     "output_type": "stream",
     "text": [
      "   Error:\tNo function named 'dnexponential'\n",
      "   Error:\tNo function named 'dnexponential'\n",
      "   Missing Variable:\tVariable kappa does not exist\n",
      "   Missing Variable:\tVariable Q does not exist\n",
      "   Missing Variable:\tVariable seq does not exist\n",
      "   Missing Variable:\tVariable kappa does not exist\n",
      "   Error:\tArgument or label mismatch for function call.\n",
      "   Provided call:\n",
      "   mvScale (Probability<constant> )\n",
      "   \n",
      "   Correct usage is:\n",
      "   mvScale (Real<stochastic> x,\n",
      "            RealPos<any> lambda,\n",
      "            Bool<any> tune,\n",
      "            RealPos<any> weight,\n",
      "            Probability<any> tuneTarget)\n",
      "   \n",
      "   Error:\tCannot find node with name 'nucstat' in the model but received a move working on it.\n",
      "   Missing Variable:\tVariable analysis does not exist\n",
      "   Error:\tCould not find filename: placZFX20_codon.trees\n",
      "   Could not read file named \"placZFX20_codon.trees\" in directory named \"/home/tommaso/revbayes_kernel/../TP4/analyses\" because neither the directory nor the\n",
      "   file exist\n",
      "   Missing Variable:\tVariable treetrace does not exist\n"
     ]
    }
   ],
   "source": [
    "n_species <- data.ntaxa()\n",
    "n_branches <- 2 * n_species - 3\n",
    "taxa <- data.taxa()\n",
    "\n",
    "out_group = clade(\"Sorex\")\n",
    "\n",
    "# tree topology\n",
    "topology ~ dnUniformTopology(taxa, outgroup = out_group) \n",
    "\n",
    "for (i in 1:n_branches) {\n",
    " bl[i] ~ dnExponential(10.0)\n",
    "}\n",
    "psi := treeAssembly(topology, bl)\n",
    "\n",
    "# total tree length (just for monitoring)\n",
    "TL := sum(bl)\n",
    "\n",
    "\n",
    "# nucstat\n",
    "nucstat ~ dnDirichlet([1.0, 1.0, 1.0, 1.0])\n",
    "\n",
    "# kappa\n",
    "kappa ~ dnexponential(lambda = 0.1)\n",
    "\n",
    "# omega\n",
    "omega ~ dnexponential(lambda = 5)\n",
    "\n",
    "Q := fnCodonHKY(omega=omega, kappa=kappa, baseFrequencies=nucstat)\n",
    "seq ~ dnPhyloCTMC( tree=psi, Q=Q, type=\"Codon\" )\n",
    "seq.clamp( data_codon )\n",
    "\n",
    "\n",
    "my_model = model(psi)\n",
    "\n",
    "\n",
    "# moves\n",
    "moves = VectorMoves()\n",
    "moves.append(mvNNI(topology, weight=3.0))\n",
    "moves.append(mvSPR(topology, weight=3.0))\n",
    "moves.append(mvScale(kappa, weight=1.0))\n",
    "moves.append(mvDirichletSimplex(nucstat, weight=1.0, alpha=10))\n",
    "moves.append(mvScale(omega), weight=1.0)\n",
    "for (i in 1:n_branches) {\n",
    "   moves.append(mvScale(bl[i], weight=1.0))\n",
    "}\n",
    "\n",
    "# monitors\n",
    "monitors[1] = mnModel(filename=\"../TP4/analyses/placZFX20_codon.log\", printgen=10, separator = TAB)\n",
    "monitors[2] = mnFile(psi,filename=\"../TP4/analyses/placZFX20_codon.trees\", printgen=10, separator = TAB)\n",
    "monitors[3] = mnScreen(printgen=100, TL)\n",
    "\n",
    "# Make the analysis object\n",
    "analysis = mcmc(my_model, monitors, moves)\n",
    "# Run the MCMC\n",
    "analysis.run(5000)\n",
    "\n",
    "# Post-analysis: constructing the maximum a posteriori tree\n",
    "treetrace = readTreeTrace(\"../TP4/analyses/placZFX20_codon.trees\", treetype=\"non-clock\", burnin=0.1)\n",
    "map_tree = mapTree(treetrace, \"../TP4/analyses/placZFX20_codon_map.tree\")"
   ]
  },
  {
   "cell_type": "code",
   "execution_count": null,
   "metadata": {},
   "outputs": [],
   "source": []
  }
 ],
 "metadata": {
  "kernelspec": {
   "display_name": "RevBayes",
   "language": "bash",
   "name": "revbayes_kernel"
  },
  "language_info": {
   "codemirror_mode": {
    "name": "r"
   },
   "file_extension": ".Rev",
   "help_links": [
    {
     "text": "RevBayes",
     "url": "https://revbayes.org"
    },
    {
     "text": "RevBayes Kernel",
     "url": "https://github.com/sdwfrost/revbayes_kernel"
    },
    {
     "text": "MetaKernel Magics",
     "url": "https://metakernel.readthedocs.io/en/latest/source/README.html"
    }
   ],
   "mimetype": "text/x-rsrc",
   "name": "RevBayes",
   "pygments_lexer": "R"
  }
 },
 "nbformat": 4,
 "nbformat_minor": 4
}
