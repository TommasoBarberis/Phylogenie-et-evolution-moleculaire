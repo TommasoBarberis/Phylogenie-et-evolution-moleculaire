{
 "cells": [
  {
   "cell_type": "code",
   "execution_count": 1,
   "id": "f837bd3b",
   "metadata": {},
   "outputs": [
    {
     "name": "stdout",
     "output_type": "stream",
     "text": [
      "   Missing Variable:\tVariable os does not exist\n",
      "\n",
      "   Successfully read one character matrix from file '../Projet/fishes/aln_prot.fst'\n"
     ]
    }
   ],
   "source": [
    "################################################################################\n",
    "#\n",
    "# RevBayes script: FBD analysis with fossil calibrations\n",
    "# \n",
    "# This file: Runs the full MCMC ...\n",
    "#\n",
    "# authors: Barberis Tommaso, Verneret Marie, Chareyre Marie, Frouté Timothée\n",
    "#\n",
    "################################################################################\n",
    "\n",
    "#######################\n",
    "# Reading in the Data #\n",
    "#######################\n",
    "# Read the full list of taxa (including all fossils and extant species #\n",
    "# taxa <- readTaxonData(\"../Projet/fishes/taxa.tsv\")\n",
    "\n",
    "# read nucleotide data\n",
    "data <- readDiscreteCharacterData(\"../Projet/fishes/aln_prot.fst\")\n",
    "\n",
    "# n_taxa <- taxa.size()\n",
    "taxa <- data.taxa()\n",
    "n_species <- data.ntaxa()\n",
    "n_branches <- 2 * n_species - 2\n",
    "\n",
    "moves = VectorMoves()"
   ]
  },
  {
   "cell_type": "code",
   "execution_count": 2,
   "id": "3169b6f2",
   "metadata": {
    "scrolled": true
   },
   "outputs": [],
   "source": [
    "##########################################################################################\n",
    "# Joint Fossil Birth-Death Process prior on the topology and fossil occurrence times #\n",
    "##########################################################################################\n",
    "\n",
    "# Define exponential priors on the birth rate and death rate #\n",
    "# speciation rate\n",
    "lambda <- 1.000001\n",
    "# moves.append(mvScale(lambda, weight=1))\n",
    "\n",
    "# extinction rate\n",
    "mu <- 1.0\n",
    "# moves.append(mvScale(mu, weight=1))\n",
    "\n",
    "# sampling fraction (in the present)\n",
    "rho <- 0.00001\n",
    "\n",
    "# Create deterministic nodes for the diversification and turnover rates so that they can be monitored #\n",
    "# diversification := lambda - mu\n",
    "# turnover := mu/lambda\n",
    "\n",
    "# Assume an exponential prior on the rate of sampling fossils (psi) #\n",
    "# psi ~ dnExponential(10) \n",
    "\n",
    "# Specify a scale move on the psi parameter # \n",
    "# moves.append( mvScale(psi, weight=1.0) )\n",
    "\n",
    "# The BD is conditioned on a starting time for the process, which is the origin time #\n",
    "# Specify a uniform prior on the origin #\n",
    "origin_time ~ dnUniform(300,750)\n",
    "\n",
    "# Specify a sliding-window move on the origin_time parameter #\n",
    "# This move will be applied with 3 different window widths (delta) to help improve mixing # \n",
    "moves.append(mvScale(origin_time, weight=1.0, lambda=0.1))"
   ]
  },
  {
   "cell_type": "code",
   "execution_count": 3,
   "id": "a21c72ab",
   "metadata": {},
   "outputs": [],
   "source": [
    "### Define the tree-prior distribution as the fossil birth-death process ###\n",
    "# timetree ~ dnFBDP(origin=origin_time, lambda=lambda, mu=mu, psi=psi, rho=rho, taxa=taxa)\n",
    "timetree ~ dnBDP(rootAge=origin_time, lambda=lambda, mu=mu, rho=rho, taxa=taxa, samplingStrategy=\"uniform\", condition=\"nTaxa\")"
   ]
  },
  {
   "cell_type": "code",
   "execution_count": 4,
   "id": "70cef9f4",
   "metadata": {},
   "outputs": [
    {
     "name": "stdout",
     "output_type": "stream",
     "text": [
      "  \r\n",
      "   (((Scyliorhinus_canicula[&index=23]:464.504533,(Chimaera_sp[&index=22]:319.794217,Heterodontus_francisci[&index=21]:319.794217)[&index=24]:144.710316)[&index=25]:219.724862,(((Rhinochimaera_pacifica[&index=20]:119.275739,Callorhinchus_capensis[&index=19]:119.275739)[&index=26]:446.137114,Callorhinchus_milii[&index=18]:565.412854)[&index=27]:10.796649,Amblyraja_radiata[&index=17]:576.209502)[&index=28]:108.019893)[&index=29]:27.081322,(((Hydrolagus_lemures[&index=16]:658.594272,Tetraodon_nigroviridis[&index=15]:658.594272)[&index=30]:33.696712,(((Plesiobatis_daviesi[&index=14]:125.272432,Cyprinus_carpio[&index=13]:125.272432)[&index=31]:208.861924,Homo_sapiens[&index=12]:334.134356)[&index=32]:338.512106,(((Squalus_acanthias[&index=11]:50.363902,Okamejei_kenojei[&index=10]:50.363902)[&index=33]:425.674184,Xenopus_tropicalis[&index=9]:476.038085)[&index=34]:143.408996,((Protopterus_aethiopicus[&index=8]:73.346300,Chimaera_monstrosa[&index=7]:73.346300)[&index=35]:521.217187,((Struthio_camelus[&index=6]:82.141463,Ornithorhynchus_anatinus[&index=5]:82.141463)[&index=36]:308.073969,(Hariotta_raleighana[&index=4]:199.861753,(Polymixia_japonica[&index=3]:187.361855,Callorhinchus_callorynchus[&index=2]:187.361855)[&index=37]:12.499898)[&index=38]:190.353678)[&index=39]:204.348056)[&index=40]:24.883595)[&index=41]:53.199380)[&index=42]:19.644522)[&index=43]:11.173860,Mustelus_manazo[&index=1]:703.464843)[&index=44]:7.845874)[&index=45]:0.000000;\r\n"
     ]
    }
   ],
   "source": [
    "timetree"
   ]
  },
  {
   "cell_type": "code",
   "execution_count": 5,
   "id": "8c573065",
   "metadata": {},
   "outputs": [],
   "source": [
    "\n",
    "# Specify moves on the tree and node times #\n",
    "# These moves update the tree topology \n",
    "# moves.append( mvFNPR(timetree, weight=15.0) )\n",
    "# moves.append(mvNarrow(timetree, weight=15.0))\n",
    "# moves.append( mvCollapseExpandFossilBranch(timetree, origin_time, weight=6.0) )\n",
    "\n",
    "# These moves update the node ages #\n",
    "# Because we are conditioning on the origin time, we must also sample the root node age #\n",
    "moves.append( mvNodeTimeSlideUniform(timetree, weight=20.0) )\n",
    "moves.append( mvRootTimeSlideUniform(timetree, origin_time, weight=4.0) )\n",
    "moves.append(mvSubtreeScale(timetree, weight=4))"
   ]
  },
  {
   "cell_type": "code",
   "execution_count": 6,
   "id": "244adc16",
   "metadata": {},
   "outputs": [],
   "source": [
    "# fossils = timetree.getFossils()"
   ]
  },
  {
   "cell_type": "code",
   "execution_count": 7,
   "id": "72676063",
   "metadata": {},
   "outputs": [],
   "source": [
    "# for(i in 1:fossils.size())\n",
    "# {\n",
    "#     t[i] := tmrca(timetree, clade(fossils[i]))\n",
    "\n",
    "#     a_i = fossils[i].getMinAge()\n",
    "#     b_i = fossils[i].getMaxAge()\n",
    "\n",
    "#     F[i] ~ dnUniform(t[i] - b_i, t[i] - a_i)\n",
    "#     F[i].clamp( 0 )\n",
    "# }"
   ]
  },
  {
   "cell_type": "code",
   "execution_count": 8,
   "id": "7c82b378",
   "metadata": {},
   "outputs": [
    {
     "name": "stdout",
     "output_type": "stream",
     "text": [
      "   Attempting to read the contents of file \"vertebrate_Poisson_NJ.tree\"\r\n",
      "   Successfully read file\r\n"
     ]
    }
   ],
   "source": [
    "# read tree topology from file\n",
    "tree <- readTrees(\"../Projet/fishes/vertebrate_Poisson_NJ.tree\", treetype=\"clock\")[1]"
   ]
  },
  {
   "cell_type": "code",
   "execution_count": 9,
   "id": "f0f2a376",
   "metadata": {},
   "outputs": [
    {
     "name": "stdout",
     "output_type": "stream",
     "text": [
      "  \r\n",
      "   ((((Squalus_acanthias[&index=23]:0.040710,((Mustelus_manazo[&index=22]:0.031320,Scyliorhinus_canicula[&index=21]:0.043080)[&index=24]:0.010170,Heterodontus_francisci[&index=20]:0.042350)[&index=25]:0.004480)[&index=26]:0.017110,((Amblyraja_radiata[&index=19]:0.021970,Okamejei_kenojei[&index=18]:0.031320)[&index=27]:0.036820,Plesiobatis_daviesi[&index=17]:0.084620)[&index=28]:0.009850)[&index=29]:0.023300,((((Chimaera_monstrosa[&index=16]:0.016590,Chimaera_sp[&index=15]:0.017640)[&index=30]:0.012410,Hydrolagus_lemures[&index=14]:0.033440)[&index=31]:0.011530,(Rhinochimaera_pacifica[&index=13]:0.020300,Hariotta_raleighana[&index=12]:0.023250)[&index=32]:0.026530)[&index=33]:0.009060,(Callorhinchus_callorynchus[&index=11]:0.003400,(Callorhinchus_capensis[&index=10]:0.002350,Callorhinchus_milii[&index=9]:0.001360)[&index=34]:0.000780)[&index=35]:0.046730)[&index=36]:0.074110)[&index=37]:0.011030,(((Tetraodon_nigroviridis[&index=8]:0.064100,Polymixia_japonica[&index=7]:0.056080)[&index=38]:0.011000,Cyprinus_carpio[&index=6]:0.063160)[&index=39]:0.027770,((Xenopus_tropicalis[&index=5]:0.108200,(Struthio_camelus[&index=4]:0.163690,(Homo_sapiens[&index=3]:0.173050,Ornithorhynchus_anatinus[&index=2]:0.131620)[&index=40]:0.058240)[&index=41]:0.019200)[&index=42]:0.009650,Protopterus_aethiopicus[&index=1]:0.148200)[&index=43]:0.008800)[&index=44]:0.000580)[&index=45]:0.000000;\r\n"
     ]
    }
   ],
   "source": [
    "tree"
   ]
  },
  {
   "cell_type": "code",
   "execution_count": 10,
   "id": "b71d7c51",
   "metadata": {},
   "outputs": [],
   "source": [
    "# ajust terminal branch lengths so as to make the tree ultrametric\n",
    "tree.makeUltrametric()\n",
    "\n",
    "# rescale all the nodes of the tree\n",
    "tree.rescale(750/tree.rootAge())"
   ]
  },
  {
   "cell_type": "code",
   "execution_count": 11,
   "id": "ed39cd4d",
   "metadata": {},
   "outputs": [
    {
     "name": "stdout",
     "output_type": "stream",
     "text": [
      "  \r\n",
      "   ((((Squalus_acanthias[&index=23]:606.856634,((Mustelus_manazo[&index=22]:566.089715,Scyliorhinus_canicula[&index=21]:566.089715)[&index=24]:28.300312,Heterodontus_francisci[&index=20]:594.390027)[&index=25]:12.466607)[&index=26]:47.612422,((Amblyraja_radiata[&index=19]:524.599288,Okamejei_kenojei[&index=18]:524.599288)[&index=27]:102.459929,Plesiobatis_daviesi[&index=17]:627.059216)[&index=28]:27.409840)[&index=29]:64.837489,((((Chimaera_monstrosa[&index=16]:421.248887,Chimaera_sp[&index=15]:421.248887)[&index=30]:34.533615,Hydrolagus_lemures[&index=14]:455.782502)[&index=31]:32.084817,(Rhinochimaera_pacifica[&index=13]:414.041630,Hariotta_raleighana[&index=12]:414.041630)[&index=32]:73.825690)[&index=33]:25.211487,(Callorhinchus_callorynchus[&index=11]:383.042075,(Callorhinchus_capensis[&index=10]:380.871549,Callorhinchus_milii[&index=9]:380.871549)[&index=34]:2.170525)[&index=35]:130.036732)[&index=36]:206.227738)[&index=37]:30.693455,(((Tetraodon_nigroviridis[&index=8]:640.499777,Polymixia_japonica[&index=7]:640.499777)[&index=38]:30.609973,Cyprinus_carpio[&index=6]:671.109751)[&index=39]:77.276269,((Xenopus_tropicalis[&index=5]:697.044746,(Struthio_camelus[&index=4]:643.616429,(Homo_sapiens[&index=3]:481.550534,Ornithorhynchus_anatinus[&index=2]:481.550534)[&index=40]:162.065895)[&index=41]:53.428317)[&index=42]:26.853295,Protopterus_aethiopicus[&index=1]:723.898041)[&index=43]:24.487979)[&index=44]:1.613980)[&index=45]:0.000000;\r\n"
     ]
    }
   ],
   "source": [
    "tree"
   ]
  },
  {
   "cell_type": "code",
   "execution_count": 12,
   "id": "91d11d94",
   "metadata": {},
   "outputs": [],
   "source": [
    "# set the value of the tree topology\n",
    "timetree.setValue(tree)"
   ]
  },
  {
   "cell_type": "code",
   "execution_count": 13,
   "id": "d5105d09",
   "metadata": {},
   "outputs": [],
   "source": [
    "# origin_time.setValue(500.0)"
   ]
  },
  {
   "cell_type": "code",
   "execution_count": 14,
   "id": "49660694",
   "metadata": {},
   "outputs": [],
   "source": [
    "# ### nodes calibration\n",
    "# clade_Gnathostomata <- clade(\"Cyprinus_carpio\",\"Chimaera_monstrosa\")\n",
    "# minimum_bound_Gnathostomata <- 422\n",
    "# # maximum_bound_Gnathostomata <- 463\n",
    "# speciation_clade_Gnathostomata := tmrca(timetree, clade_Gnathostomata)\n",
    "\n",
    "\n",
    "# # width_age_prior_Gnathostomata <- (maximum_bound_Gnathostomata-minimum_bound_Gnathostomata)/2.0\n",
    "# # mean_age_prior_Gnathostomata <- minimum_bound_Gnathostomata + width_age_prior_Gnathostomata\n",
    "# # obs_age_clade_Gnathostomata ~ dnNormal(speciation_clade_Gnathostomata, width_age_prior_Gnathostomata)\n",
    "# obs_age_clade_Gnathostomata ~ dnExponential(0.2, offset = speciation_clade_Gnathostomata)\n",
    "# obs_age_clade_Gnathostomata.clamp( minimum_bound_Gnathostomata )\n",
    "\n",
    "# # clade_Euteleostomi <- clade(\"Cyprinus_carpio\",\"Homo_sapiens\")\n",
    "# # minimum_bound_Euteleostomi <- 416\n",
    "# # maximum_bound_Euteleostomi <- 422\n",
    "# # speciation_clade_Euteleostomi := tmrca(timetree, clade_Euteleostomi)\n",
    "# # width_age_prior_Euteleostomi <- (maximum_bound_Euteleostomi - minimum_bound_Euteleostomi)/2.0\n",
    "# # mean_age_prior_Euteleostomi <- minimum_bound_Euteleostomi + width_age_prior_Euteleostomi\n",
    "# # # obs_age_clade_Euteleostomi ~ dnNormal(speciation_clade_Euteleostomi, width_age_prior_Euteleostomi)\n",
    "# # obs_age_clade_Euteleostomi ~ dnExponential(0.2, offset = -speciation_clade_Euteleostomi)\n",
    "# # obs_age_clade_Euteleostomi.clamp( -minimum_bound_Euteleostomi )\n",
    "\n",
    "# # clade_Chondrichthyes <- clade(\"Plesiobatis_daviesi\",\"Chimaera_monstrosa\")\n",
    "# # minimum_bound_Chondrichthyes <- 410\n",
    "# # speciation_clade_Chondrichthyes := tmrca(timetree, clade_Chondrichthyes)\n",
    "# # obs_age_clade_Chondrichthyes ~ dnExponential(0.2, offset = -speciation_clade_Chondrichthyes)\n",
    "# # obs_age_clade_Chondrichthyes.clamp(-minimum_bound_Chondrichthyes)"
   ]
  },
  {
   "cell_type": "code",
   "execution_count": 15,
   "id": "01814ceb",
   "metadata": {},
   "outputs": [],
   "source": [
    "# node calibration\n",
    "clade_1 <- clade(\"Cyprinus_carpio\",\"Chimaera_monstrosa\")\n",
    "minimum_bound_clade_1 <- 422\n",
    "speciation_clade_1 := tmrca(timetree, clade_1)\n",
    "obs_age_clade_1 ~ dnExponential(0.2, offset= -speciation_clade_1)\n",
    "obs_age_clade_1.clamp( -minimum_bound_clade_1 )\n",
    "\n",
    "clade_2 <- clade(\"Cyprinus_carpio\",\"Homo_sapiens\")\n",
    "minimum_bound_clade_2 <- 416\n",
    "speciation_clade_2 := tmrca(timetree, clade_2)\n",
    "obs_age_clade_2 ~ dnExponential(0.2, offset = -speciation_clade_2)\n",
    "obs_age_clade_2.clamp( -minimum_bound_clade_2 )\n",
    "\n",
    "clade_3 <- clade(\"Cyprinus_carpio\",\"Tetraodon_nigroviridis\")\n",
    "minimum_bound_3 <- 150\n",
    "speciation_clade_3 := tmrca(timetree, clade_3)\n",
    "obs_age_clade_3 ~ dnExponential(0.2, offset = -speciation_clade_3)\n",
    "obs_age_clade_3.clamp( -minimum_bound_3 )\n",
    "\n",
    "clade_6 <- clade(\"Xenopus_tropicalis\",\"Homo_sapiens\")\n",
    "minimum_bound_clade_6 <- 330\n",
    "speciation_clade_6 := tmrca(timetree, clade_6)\n",
    "obs_age_clade_6 ~ dnExponential(0.2, offset = -speciation_clade_6)\n",
    "obs_age_clade_6.clamp( -minimum_bound_clade_6 )\n",
    "\n",
    "clade_7 <- clade(\"Struthio_camelus\",\"Homo_sapiens\")\n",
    "minimum_bound_clade_7 <- 312\n",
    "speciation_clade_7 := tmrca(timetree, clade_7)\n",
    "obs_age_clade_7 ~ dnExponential(0.2, offset = -speciation_clade_7)\n",
    "obs_age_clade_7.clamp( -minimum_bound_clade_7 )\n",
    "\n",
    "clade_8 <- clade(\"Ornithorhynchus_anatinus\",\"Homo_sapiens\")\n",
    "minimum_bound_clade_8 <- 163\n",
    "speciation_clade_8 := tmrca(timetree, clade_8)\n",
    "obs_age_clade_8 ~ dnExponential(0.2, offset = -speciation_clade_8)\n",
    "obs_age_clade_8.clamp( -minimum_bound_clade_8 )\n",
    "\n",
    "clade_9 <- clade(\"Plesiobatis_daviesi\",\"Chimaera_monstrosa\")\n",
    "minimum_bound_clade_9 <- 410\n",
    "speciation_clade_9 := tmrca(timetree, clade_9)\n",
    "obs_age_clade_9 ~ dnExponential(0.2, offset = -speciation_clade_9)\n",
    "obs_age_clade_9.clamp( -minimum_bound_clade_9 )\n",
    "\n",
    "clade_10 <- clade(\"Plesiobatis_daviesi\",\"Mustelus_manazo\")\n",
    "minimum_bound_10 <- 190\n",
    "speciation_clade_10 := tmrca(timetree, clade_10)\n",
    "obs_age_clade_10 ~ dnExponential(0.2, offset = -speciation_clade_10)\n",
    "obs_age_clade_10.clamp( -minimum_bound_10 )\n",
    "\n",
    "clade_11 <- clade(\"Plesiobatis_daviesi\",\"Okamejei_kenojei\")\n",
    "minimum_bound_11 <- 176\n",
    "speciation_clade_11 := tmrca(timetree, clade_11)\n",
    "obs_age_clade_11 ~ dnExponential(0.2, offset = -speciation_clade_11)\n",
    "obs_age_clade_11.clamp( -minimum_bound_11 )\n",
    "\n",
    "clade_14 <- clade(\"Heterodontus_francisci\",\"Mustelus_manazo\")\n",
    "minimum_bound_14 <- 176\n",
    "speciation_clade_14 := tmrca(timetree, clade_14)\n",
    "obs_age_clade_14 ~ dnExponential(0.2, offset = -speciation_clade_14)\n",
    "obs_age_clade_14.clamp( -minimum_bound_14 )\n",
    "\n",
    "clade_15 <- clade(\"Scyliorhinus_canicula\",\"Mustelus_manazo\")\n",
    "minimum_bound_15 <- 165\n",
    "speciation_clade_15 := tmrca(timetree, clade_15)\n",
    "obs_age_clade_15 ~ dnExponential(0.2, offset = -speciation_clade_15)\n",
    "obs_age_clade_15.clamp( -minimum_bound_15 )\n",
    "\n",
    "clade_16 <- clade(\"Callorhinchus_callorynchus\",\"Chimaera_monstrosa\")\n",
    "minimum_bound_16 <- 161\n",
    "speciation_clade_16 := tmrca(timetree, clade_16)\n",
    "obs_age_clade_16 ~ dnExponential(0.2, offset = -speciation_clade_16)\n",
    "obs_age_clade_16.clamp( -minimum_bound_16 )\n",
    "\n",
    "clade_19 <- clade(\"Rhinochimaera_pacifica\",\"Chimaera_monstrosa\")\n",
    "minimum_bound_19 <- 84\n",
    "speciation_clade_19 := tmrca(timetree, clade_19)\n",
    "obs_age_clade_19 ~ dnExponential(0.2, offset = -speciation_clade_19)\n",
    "obs_age_clade_19.clamp( -minimum_bound_19 )\n"
   ]
  },
  {
   "cell_type": "code",
   "execution_count": 16,
   "id": "71b98fe3",
   "metadata": {},
   "outputs": [],
   "source": [
    "# ### Create deterministic nodes to monitor various tree statistics ###\n",
    "# # Monitor the number of sampled ancestors in the FBD-tree #\n",
    "# num_samp_anc := timetree.numSampledAncestors();\n",
    "\n",
    "# # Monitor the age of the extant bears #\n",
    "# clade_extant = clade(\"Cyprinus_carpio\", \"Polymixia_japonica\", \"Tetraodon_nigroviridis\", \"Protopterus_aethiopicus\", \"Xenopus_tropicalis\", \"Struthio_camelus\", \"Ornithorhynchus_anatinus\",\n",
    "#    \"Homo_sapiens\", \"Plesiobatis_daviesi\", \"Okamejei_kenojei\", \"Amblyraja_radiata\", \"Squalus_acanthias\", \"Heterodontus_francisci\", \"Scyliorhinus_canicula\", \"Mustelus_manazo\",\n",
    "#    \"Callorhinchus_milii\", \"Callorhinchus_capensis\", \"Callorhinchus_callorynchus\", \"Hariotta_raleighana\", \"Rhinochimaera_pacifica\", \"Hydrolagus_lemures\", \"Chimaera_sp\",\n",
    "#    \"Chimaera_monstrosa\")\n",
    "# age_extant := tmrca(timetree, clade_extant)\n",
    "\n",
    "# # Monitor the age of a particular fossil #\n",
    "# # age_Kretzoiarctos_beatrix := tmrca(timetree, clade(\"clade_9\")) # divergence between holocephals and elasmobranchii"
   ]
  },
  {
   "cell_type": "code",
   "execution_count": 17,
   "id": "4db8afc9",
   "metadata": {},
   "outputs": [],
   "source": [
    "###########################################\n",
    "# Substitution model #\n",
    "###########################################\n",
    "#Create the Q matrix. These data are amino acid sequences, so we initialize the MtRev matrix #\n",
    "Q := fnMtRev()\n",
    "\n",
    "# We assume a relaxed morphological clock rate, drawn from an exponential prior #\n",
    "mean_clockrate ~ dnExponential(1.0)\n",
    "moves.append(mvScale(mean_clockrate, weight=1.0))\n",
    "\n",
    "relvar_clockrate ~ dnExponential(1.0)\n",
    "moves.append(mvScale(relvar_clockrate, weight=1.0))\n",
    "\n",
    "alpha := 1.0 / relvar_clockrate\n",
    "beta := alpha / mean_clockrate\n",
    "\n",
    "for (i in 1:n_branches) {\n",
    "    clockrate[i] ~ dnGamma(alpha, beta)\n",
    "}\n",
    "\n",
    "# Specify moves on the clockrate #\n",
    "for (i in 1:n_branches){\n",
    "    moves.append(mvScale(clockrate[i], weight=1.0, lambda=0.1))\n",
    "}"
   ]
  },
  {
   "cell_type": "code",
   "execution_count": 18,
   "id": "a48ade65",
   "metadata": {},
   "outputs": [],
   "source": [
    "### Create the substitution model and clamp with our observed Standard data ###\n",
    "seq ~ dnPhyloCTMC( tree=timetree, Q=Q, branchRates=clockrate,  type=\"AA\")\n",
    "seq.clamp( data )"
   ]
  },
  {
   "cell_type": "code",
   "execution_count": 19,
   "id": "4d2db225",
   "metadata": {
    "scrolled": true
   },
   "outputs": [
    {
     "name": "stdout",
     "output_type": "stream",
     "text": [
      "   \r\n",
      "   Protein character matrix with 23 taxa and 3248 characters\r\n",
      "   =========================================================\r\n",
      "   Origination:                   aln_prot.fst\r\n",
      "   Number of taxa:                23\r\n",
      "   Number of included taxa:       23\r\n",
      "   Number of characters:          3248\r\n",
      "   Number of included characters: 3248\r\n",
      "   Datatype:                      Protein\r\n",
      "   \r\n",
      "   \r\n"
     ]
    }
   ],
   "source": [
    "data"
   ]
  },
  {
   "cell_type": "code",
   "execution_count": 20,
   "id": "8784c4bf",
   "metadata": {},
   "outputs": [],
   "source": [
    "########\n",
    "# MCMC #\n",
    "########\n",
    "\n",
    "# initialize the model object #\n",
    "mymodel = model(timetree)"
   ]
  },
  {
   "cell_type": "code",
   "execution_count": 21,
   "id": "9d69a33d",
   "metadata": {},
   "outputs": [],
   "source": [
    "# monitors = VectorMonitors()"
   ]
  },
  {
   "cell_type": "code",
   "execution_count": 22,
   "id": "4a83aba6",
   "metadata": {},
   "outputs": [],
   "source": [
    "# Create a vector of monitors #\n",
    "# 1. for the full model #\n",
    "monitors[1] = mnModel(filename=\"analyses/fishes_relaxedclock.log\", printgen=10, separator = TAB)"
   ]
  },
  {
   "cell_type": "code",
   "execution_count": 23,
   "id": "5ab27146",
   "metadata": {},
   "outputs": [],
   "source": [
    "# 2. the tree #\n",
    "monitors[2] = mnFile(timetree, filename=\"analyses/fishes_relaxedclock.trees\", printgen=10, separator = TAB)"
   ]
  },
  {
   "cell_type": "code",
   "execution_count": 24,
   "id": "a0b1b6db",
   "metadata": {},
   "outputs": [],
   "source": [
    "# 3. and a few select parameters to be printed to the screen #\n",
    "monitors[3] = mnScreen(printgen=100, mean_clockrate, relvar_clockrate, origin_time)"
   ]
  },
  {
   "cell_type": "code",
   "execution_count": 25,
   "id": "98d57947",
   "metadata": {},
   "outputs": [
    {
     "name": "stdout",
     "output_type": "stream",
     "text": [
      "   \n",
      "   Running MCMC simulation\n",
      "   This simulation runs 1 independent replicate.\n",
      "   The simulator uses 50 different moves in a random move schedule with 75 moves per iteration\n",
      "   \n",
      "\n",
      "Iter        |      Posterior   |     Likelihood   |          Prior   |   mean_clock..   |    origin_time   |   relvar_clo..   |    elapsed   |        ETA   |\n",
      "-------------------------------------------------------------------------------------------------------------------------------------------------------------\n",
      "0           |        -208763   |        -208577   |       -185.745   |      0.3984971   |            750   |      0.6158502   |   00:00:00   |   --:--:--   |\n",
      "100         |        -153432   |        -153261   |       -171.034   |      0.3238303   |       424.9448   |       1.058013   |   00:00:35   |   --:--:--   |\n",
      "200         |        -149224   |        -149054   |       -169.398   |      0.3341338   |       429.1069   |        1.15231   |   00:01:09   |   00:01:43   |\n",
      "300         |        -146663   |        -146492   |       -171.093   |      0.2380053   |       430.2891   |      0.7354703   |   00:01:41   |   00:01:07   |\n",
      "400         |        -144672   |        -144506   |        -165.39   |      0.2648839   |       425.7598   |       1.065276   |   00:02:14   |   00:00:33   |\n",
      "500         |        -144052   |        -143887   |       -165.063   |      0.3904803   |       426.4183   |       1.190933   |   00:02:46   |   00:00:00   |\n"
     ]
    }
   ],
   "source": [
    "# Initialize the MCMC object #\n",
    "mymcmc = mcmc(mymodel, monitors, moves)\n",
    "\n",
    "# Run the MCMC #\n",
    "mymcmc.run(generations=500)"
   ]
  },
  {
   "cell_type": "code",
   "execution_count": 26,
   "id": "d8ccafd8",
   "metadata": {},
   "outputs": [
    {
     "name": "stdout",
     "output_type": "stream",
     "text": [
      "   Processing file \"/home/tommaso/M2/Semestre_3/Phylo/repo_git/analyses/fishes_relaxedclock.trees\"\n",
      "\n",
      "Progress:\n",
      "0---------------25---------------50---------------75--------------100\n",
      "********************************************************************\n",
      "\n",
      "   Compiling maximum clade credibility tree from 46 trees.\n",
      "   \n",
      "   Summarizing clades ...\n",
      "   \n",
      "\n",
      "Progress:\n",
      "0---------------25---------------50---------------75--------------100\n",
      "********************************************************************\n",
      "\n",
      "   Annotating tree ...\n"
     ]
    }
   ],
   "source": [
    "treetrace = readTreeTrace(\"analyses/fishes_relaxedclock.trees\", treetype=\"clock\", burnin=0.1)\n",
    "map_tree = mccTree(treetrace, \"analyses/fishes_relaxedclock.tree\")"
   ]
  }
 ],
 "metadata": {
  "kernelspec": {
   "display_name": "RevBayes",
   "language": "bash",
   "name": "revbayes_kernel"
  },
  "language_info": {
   "codemirror_mode": {
    "name": "r"
   },
   "file_extension": ".Rev",
   "help_links": [
    {
     "text": "RevBayes",
     "url": "https://revbayes.org"
    },
    {
     "text": "RevBayes Kernel",
     "url": "https://github.com/sdwfrost/revbayes_kernel"
    },
    {
     "text": "MetaKernel Magics",
     "url": "https://metakernel.readthedocs.io/en/latest/source/README.html"
    }
   ],
   "mimetype": "text/x-rsrc",
   "name": "RevBayes",
   "pygments_lexer": "R"
  }
 },
 "nbformat": 4,
 "nbformat_minor": 5
}
