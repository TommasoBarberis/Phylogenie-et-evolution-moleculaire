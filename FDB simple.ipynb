{
 "cells": [
  {
   "cell_type": "markdown",
   "id": "6e086821",
   "metadata": {},
   "source": [
    "# RevBayes script: A simple FBD analysis\n",
    "\n",
    "##  Reading in the Data"
   ]
  },
  {
   "cell_type": "code",
   "execution_count": 1,
   "id": "9f315143",
   "metadata": {},
   "outputs": [
    {
     "name": "stdout",
     "output_type": "stream",
     "text": [
      "   Missing Variable:\tVariable os does not exist\n",
      "\n",
      "   Successfully read one character matrix from file '../Projet/fishes/aln_prot.fst'\n"
     ]
    }
   ],
   "source": [
    "# Import the morphological character matrix #\n",
    "data <- readDiscreteCharacterData(\"../Projet/fishes/aln_prot.fst\")\n",
    "\n",
    "## helpers\n",
    "n_species <- data.ntaxa()\n",
    "n_branchs <- 2 * n_species - 2\n",
    "taxa <- data.taxa()\n",
    "\n",
    "# vector for moves\n",
    "moves = VectorMoves()"
   ]
  },
  {
   "cell_type": "markdown",
   "id": "f9731a10",
   "metadata": {},
   "source": [
    "## Joint Fossilized Birth-Death Process prior on the topology and fossil occurrence times"
   ]
  },
  {
   "cell_type": "code",
   "execution_count": 2,
   "id": "69e375cd",
   "metadata": {},
   "outputs": [],
   "source": [
    "# Define exponential priors on the birth rate and death rate #\n",
    "speciation_rate ~ dnExponential(10)\n",
    "extinction_rate ~ dnExponential(10)\n",
    "\n",
    "# Specify a scale move on the speciation_rate parameter #\n",
    "moves.append( mvScale(speciation_rate, weight=1) )\n",
    "\n",
    "# Specify a scale move on the extinction_rate parameter #\n",
    "moves.append( mvScale(extinction_rate, weight=1) )\n",
    "\n",
    "# Create deterministic nodes for the diversification and turnover rates so that they can be monitored #\n",
    "diversification := speciation_rate - extinction_rate\n",
    "turnover := extinction_rate/speciation_rate\n",
    "\n",
    "\n",
    "# Fix the probability of sampling parameter (rho) #\n",
    "rho <- 0.000046\n",
    "\n",
    "# Assume an exponential prior on the rate of sampling fossils (psi) #\n",
    "psi ~ dnExponential(1) \n",
    "\n",
    "# Specify a scale move on the psi parameter #\n",
    "moves.append( mvScale(psi, weight=1) )\n",
    "\n",
    "\n",
    "# The FBD is conditioned on a starting time for the process, which is the origin time #\n",
    "origin_time ~ dnUnif(0, 1500)\n",
    "\n",
    "# Specify a sliding-window move on the origin_time parameter #\n",
    "moves.append( mvSlide(origin_time, weight=1.0) )\n",
    "\n",
    "\n",
    "### Define the tree-prior distribution as the fossilized birth-death process ###\n",
    "fbd_tree ~ dnFBDP(origin=origin_time, lambda=speciation_rate, mu=extinction_rate, psi=psi, rho=rho, taxa=taxa)\n",
    "\n",
    "# These moves update the node ages #\n",
    "# Because we are conditioning on the origin time, we must also sample the root node age #\n",
    "moves.append( mvNodeTimeSlideUniform(fbd_tree, weight=40.0) )\n",
    "moves.append( mvRootTimeSlideUniform(fbd_tree, origin_time, weight=5.0) )\n",
    "moves.append(mvSubtreeScale(fbd_tree, weight=4))"
   ]
  },
  {
   "cell_type": "code",
   "execution_count": 3,
   "id": "bacde3ef",
   "metadata": {},
   "outputs": [],
   "source": [
    "# Add a move to sample the fossil times #\n",
    "moves.append( mvFossilTimeSlideUniform(fbd_tree, origin_time, weight=5.0) )"
   ]
  },
  {
   "cell_type": "code",
   "execution_count": 4,
   "id": "a16b0964",
   "metadata": {},
   "outputs": [
    {
     "name": "stdout",
     "output_type": "stream",
     "text": [
      "   Attempting to read the contents of file \"vertebrate_Poisson_NJ.tree\"\r\n",
      "   Successfully read file\r\n"
     ]
    }
   ],
   "source": [
    "# read tree topology from file\n",
    "tree <- readTrees(\"../Projet/fishes/vertebrate_Poisson_NJ.tree\", treetype=\"clock\")[1]\n",
    "\n",
    "# ajust terminal branch lengths so as to make the tree ultrametric\n",
    "tree.makeUltrametric()\n",
    "\n",
    "# rescale all the nodes of the tree\n",
    "tree.rescale(750/tree.rootAge())\n",
    "\n",
    "# set the value of the tree topology\n",
    "fbd_tree.setValue(tree)"
   ]
  },
  {
   "cell_type": "markdown",
   "id": "45ab779f",
   "metadata": {},
   "source": [
    "## Use stratigraphic range data to explicitly sample the fossil occurence times"
   ]
  },
  {
   "cell_type": "code",
   "execution_count": 5,
   "id": "137fc148",
   "metadata": {},
   "outputs": [],
   "source": [
    "# node calibration\n",
    "clade_1 <- clade(\"Cyprinus_carpio\",\"Chimaera_monstrosa\")\n",
    "minimum_bound_clade_1 <- 422\n",
    "maximum_bound_clade_1 <- 463\n",
    "speciation_clade_1 := tmrca(fbd_tree, clade_1)\n",
    "obs_age_clade_1 ~ dnSoftBoundUniformNormal(min=minimum_bound_clade_1, max=maximum_bound_clade_1, sd=2, p=0.05)\n",
    "obs_age_clade_1.clamp( (minimum_bound_clade_1 + maximum_bound_clade_1)/2 )\n",
    "\n",
    "clade_2 <- clade(\"Cyprinus_carpio\",\"Homo_sapiens\")\n",
    "minimum_bound_clade_2 <- 416\n",
    "maximum_bound_clade_2 <- 422\n",
    "speciation_clade_2 := tmrca(fbd_tree, clade_2)\n",
    "obs_age_clade_2 ~ dnSoftBoundUniformNormal(min=minimum_bound_clade_2, max=maximum_bound_clade_2, sd=2, p=0.05)\n",
    "obs_age_clade_2.clamp( (minimum_bound_clade_2 + maximum_bound_clade_2)/2 )\n",
    "\n",
    "clade_3 <- clade(\"Cyprinus_carpio\",\"Tetraodon_nigroviridis\")\n",
    "minimum_bound_3 <- 150\n",
    "speciation_clade_3 := tmrca(fbd_tree, clade_3)\n",
    "obs_age_clade_3 ~ dnExponential(0.2, offset = -speciation_clade_3)\n",
    "obs_age_clade_3.clamp( -minimum_bound_3 )\n",
    "\n",
    "clade_6 <- clade(\"Xenopus_tropicalis\",\"Homo_sapiens\")\n",
    "minimum_bound_clade_6 <- 330\n",
    "maximum_bound_clade_6 <- 350\n",
    "speciation_clade_6 := tmrca(fbd_tree, clade_6)\n",
    "obs_age_clade_6 ~ dnSoftBoundUniformNormal(min=minimum_bound_clade_6, max=maximum_bound_clade_6, sd=2, p=0.05)\n",
    "obs_age_clade_6.clamp( (minimum_bound_clade_6 + maximum_bound_clade_6)/2 )\n",
    "\n",
    "clade_7 <- clade(\"Struthio_camelus\",\"Homo_sapiens\")\n",
    "minimum_bound_clade_7 <- 312\n",
    "maximum_bound_clade_7 <- 330\n",
    "speciation_clade_7 := tmrca(fbd_tree, clade_7)\n",
    "obs_age_clade_7 ~ dnSoftBoundUniformNormal(min=minimum_bound_clade_7, max=maximum_bound_clade_7, sd=2, p=0.05)\n",
    "obs_age_clade_7.clamp( (minimum_bound_clade_7 + maximum_bound_clade_7)/2 )\n",
    "\n",
    "clade_8 <- clade(\"Ornithorhynchus_anatinus\",\"Homo_sapiens\")\n",
    "minimum_bound_clade_8 <- 163\n",
    "maximum_bound_clade_8 <- 191\n",
    "speciation_clade_8 := tmrca(fbd_tree, clade_8)\n",
    "obs_age_clade_8 ~ dnSoftBoundUniformNormal(min=minimum_bound_clade_8, max=maximum_bound_clade_8, sd=2, p=0.05)\n",
    "obs_age_clade_8.clamp( (minimum_bound_clade_8 + maximum_bound_clade_8)/2 )\n",
    "\n",
    "clade_9 <- clade(\"Plesiobatis_daviesi\",\"Chimaera_monstrosa\")\n",
    "minimum_bound_clade_9 <- 410\n",
    "speciation_clade_9 := tmrca(fbd_tree, clade_9)\n",
    "obs_age_clade_9 ~ dnExponential(0.2, offset = -speciation_clade_9)\n",
    "obs_age_clade_9.clamp( -minimum_bound_clade_9 )\n",
    "\n",
    "clade_10 <- clade(\"Plesiobatis_daviesi\",\"Mustelus_manazo\")\n",
    "minimum_bound_10 <- 190\n",
    "speciation_clade_10 := tmrca(fbd_tree, clade_10)\n",
    "obs_age_clade_10 ~ dnExponential(0.2, offset = -speciation_clade_10)\n",
    "obs_age_clade_10.clamp( -minimum_bound_10 )\n",
    "\n",
    "clade_11 <- clade(\"Plesiobatis_daviesi\",\"Okamejei_kenojei\")\n",
    "minimum_bound_11 <- 176\n",
    "speciation_clade_11 := tmrca(fbd_tree, clade_11)\n",
    "obs_age_clade_11 ~ dnExponential(0.2, offset = -speciation_clade_11)\n",
    "obs_age_clade_11.clamp( -minimum_bound_11 )\n",
    "\n",
    "clade_14 <- clade(\"Heterodontus_francisci\",\"Mustelus_manazo\")\n",
    "minimum_bound_14 <- 176\n",
    "speciation_clade_14 := tmrca(fbd_tree, clade_14)\n",
    "obs_age_clade_14 ~ dnExponential(0.2, offset = -speciation_clade_14)\n",
    "obs_age_clade_14.clamp( -minimum_bound_14 )\n",
    "\n",
    "clade_15 <- clade(\"Scyliorhinus_canicula\",\"Mustelus_manazo\")\n",
    "minimum_bound_15 <- 165\n",
    "speciation_clade_15 := tmrca(fbd_tree, clade_15)\n",
    "obs_age_clade_15 ~ dnExponential(0.2, offset = -speciation_clade_15)\n",
    "obs_age_clade_15.clamp( -minimum_bound_15 )\n",
    "\n",
    "clade_16 <- clade(\"Callorhinchus_callorynchus\",\"Chimaera_monstrosa\")\n",
    "minimum_bound_16 <- 161\n",
    "speciation_clade_16 := tmrca(fbd_tree, clade_16)\n",
    "obs_age_clade_16 ~ dnExponential(0.2, offset = -speciation_clade_16)\n",
    "obs_age_clade_16.clamp( -minimum_bound_16 )\n",
    "\n",
    "clade_19 <- clade(\"Rhinochimaera_pacifica\",\"Chimaera_monstrosa\")\n",
    "minimum_bound_19 <- 84\n",
    "speciation_clade_19 := tmrca(fbd_tree, clade_19)\n",
    "obs_age_clade_19 ~ dnExponential(0.2, offset = -speciation_clade_19)\n",
    "obs_age_clade_19.clamp( -minimum_bound_19 )"
   ]
  },
  {
   "cell_type": "markdown",
   "id": "30b874c3",
   "metadata": {},
   "source": [
    "## Create deterministic nodes to monitor various tree statistics"
   ]
  },
  {
   "cell_type": "code",
   "execution_count": 6,
   "id": "6f4e7d85",
   "metadata": {},
   "outputs": [],
   "source": [
    "# Monitor the number of sampled ancestors in the FBD-tree #\n",
    "num_samp_anc := fbd_tree.numSampledAncestors()"
   ]
  },
  {
   "cell_type": "markdown",
   "id": "dba14ddd",
   "metadata": {},
   "source": [
    "## Binary morphological substitution model"
   ]
  },
  {
   "cell_type": "code",
   "execution_count": 7,
   "id": "70de1d52",
   "metadata": {},
   "outputs": [],
   "source": [
    "#Create the Q matrix. These data are binary, so we initialize the Jukes-Cantor matrix with\n",
    "# two states\n",
    "Q <- fnMtRev()\n",
    "\n",
    "# We assume a strict morphological clock rate, drawn from an exponential prior #\n",
    "clockrate ~ dnExponential(1.0)\n",
    "\n",
    "moves.append( mvScale(clockrate, weight=4.0) )\n",
    "\n",
    "### Create the substitution model and clamp with our observed Standard data ###\n",
    "# Here we use the option siteMatrices=true specify that the vector Q #\n",
    "# represents a site-specific mixture of rate matrices #\n",
    "# We also condition on observing only variable characters using coding=\"variable\" #\n",
    "seq ~ dnPhyloCTMC(tree=fbd_tree, branchRates=clockrate, Q=Q, type=\"AA\")\n",
    "seq.clamp(data)"
   ]
  },
  {
   "cell_type": "markdown",
   "id": "00dd60c7",
   "metadata": {},
   "source": [
    "## MCMC"
   ]
  },
  {
   "cell_type": "code",
   "execution_count": null,
   "id": "2f910fa8",
   "metadata": {},
   "outputs": [
    {
     "name": "stdout",
     "output_type": "stream",
     "text": [
      "   \n",
      "   Running MCMC simulation\n",
      "   This simulation runs 1 independent replicate.\n",
      "   The simulator uses 9 different moves in a random move schedule with 62 moves per iteration\n",
      "   \n",
      "\n",
      "Iter        |      Posterior   |     Likelihood   |          Prior   |   num_samp_anc   |    origin_time   |    elapsed   |        ETA   |\n",
      "------------------------------------------------------------------------------------------------------------------------------------------\n",
      "0           |        -245016   |        -208234   |       -36782.4   |              0   |       1128.737   |   00:00:00   |   --:--:--   |"
     ]
    }
   ],
   "source": [
    "# initialize the model object #\n",
    "mymodel = model(fbd_tree)\n",
    "\n",
    "monitors = VectorMonitors()\n",
    "\n",
    "# Create a vector of monitors #\n",
    "# 1. for the full model #\n",
    "monitors.append( mnModel(filename=\"../fbd_simple/output/fishes_FDB.log\", printgen=10, exclude = [\"F\"]) )\n",
    "\n",
    "# 2. the tree #\n",
    "monitors.append( mnFile(filename=\"../fbd_simple/output/fishes_FDB.trees\", printgen=10, fbd_tree) )\n",
    "\n",
    "# 3. and a few select parameters to be printed to the screen #\n",
    "monitors.append( mnScreen(printgen=100, num_samp_anc, origin_time) )\n",
    "\n",
    "# Initialize the MCMC object #\n",
    "mymcmc = mcmc(mymodel, monitors, moves)\n",
    "\n",
    "# Run the MCMC #\n",
    "mymcmc.run(generations=500)"
   ]
  },
  {
   "cell_type": "code",
   "execution_count": 9,
   "id": "ccbdaef9",
   "metadata": {},
   "outputs": [
    {
     "name": "stdout",
     "output_type": "stream",
     "text": [
      "   Processing file \"/home/tommaso/M2/Semestre_3/Phylo/repo_git/../fbd_simple/output/fishes_FDB.trees\"\n",
      "\n",
      "Progress:\n",
      "0---------------25---------------50---------------75--------------100\n",
      "********************************************************************\n",
      "\n",
      "   Compiling maximum clade credibility tree from 46 trees.\n",
      "   \n",
      "   Summarizing clades ...\n",
      "   \n",
      "\n",
      "Progress:\n",
      "0---------------25---------------50---------------75--------------100\n",
      "********************************************************************\n",
      "\n",
      "   Annotating tree ...\n"
     ]
    }
   ],
   "source": [
    "treetrace = readTreeTrace(\"../fbd_simple/output/fishes_FDB.trees\", treetype=\"clock\", burnin=0.1)\n",
    "map_tree = mccTree(treetrace, \"../fbd_simple/output/fishes_FDB.tree\")"
   ]
  }
 ],
 "metadata": {
  "kernelspec": {
   "display_name": "RevBayes",
   "language": "bash",
   "name": "revbayes_kernel"
  },
  "language_info": {
   "codemirror_mode": {
    "name": "r"
   },
   "file_extension": ".Rev",
   "help_links": [
    {
     "text": "RevBayes",
     "url": "https://revbayes.org"
    },
    {
     "text": "RevBayes Kernel",
     "url": "https://github.com/sdwfrost/revbayes_kernel"
    },
    {
     "text": "MetaKernel Magics",
     "url": "https://metakernel.readthedocs.io/en/latest/source/README.html"
    }
   ],
   "mimetype": "text/x-rsrc",
   "name": "RevBayes",
   "pygments_lexer": "R"
  }
 },
 "nbformat": 4,
 "nbformat_minor": 5
}
